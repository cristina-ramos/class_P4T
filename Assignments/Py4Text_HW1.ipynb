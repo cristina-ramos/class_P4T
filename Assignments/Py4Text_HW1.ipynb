{
  "nbformat": 4,
  "nbformat_minor": 0,
  "metadata": {
    "colab": {
      "name": "Py4Text_HW1.ipynb",
      "provenance": [],
      "collapsed_sections": [],
      "authorship_tag": "ABX9TyOKamYPZTnce6hdzBO/kmLK",
      "include_colab_link": true
    },
    "kernelspec": {
      "name": "python3",
      "display_name": "Python 3"
    }
  },
  "cells": [
    {
      "cell_type": "markdown",
      "metadata": {
        "id": "view-in-github",
        "colab_type": "text"
      },
      "source": [
        "<a href=\"https://colab.research.google.com/github/cristina-ramos/class_P4T/blob/main/Assignments/Py4Text_HW1.ipynb\" target=\"_parent\"><img src=\"https://colab.research.google.com/assets/colab-badge.svg\" alt=\"Open In Colab\"/></a>"
      ]
    },
    {
      "cell_type": "markdown",
      "metadata": {
        "id": "9vvNelEeFUy_"
      },
      "source": [
        "1. Overview: Which corpus have you selected? Give its name and write a one-paragraph description of the data in the corpus.\n",
        "\n",
        "  I have chosen the Machado de Assis Digital Corpus Project (MADCP). This is a project which combines the fields of linguistics and humanities to explore the works of Joaquim Maria Machado de Assis, a nineteenth-century Brazilian novelist, poet, and playwright. MADCP's goal is to work with new and developing tools from both fields to provide learners examine the narrative style and content of Machado de Assis. The tools included in the corpus project allow users to look at word frequencies, sentence structure, and diction. "
      ]
    },
    {
      "cell_type": "markdown",
      "metadata": {
        "id": "diQ2MqdrFWaX"
      },
      "source": [
        "2. Data stats: How much data is there in the corpus, and of what types? Your answer should include number of documents, number of sentences (if relevant), number of words (if relevant). You should also discuss something about the nature of the data – is it text only? Is there any annotation? (examples could be sentiment (pos/neg) labels for movie reviews, or syntax trees for treebanks) Finally, discuss the language or languages present in the corpus and how much data is from each language."
      ]
    },
    {
      "cell_type": "code",
      "metadata": {
        "id": "oT24UFd8FZv6",
        "colab": {
          "base_uri": "https://localhost:8080/",
          "height": 153
        },
        "outputId": "8be2eebc-c5a6-47cb-fbeb-37683c2cf8ff"
      },
      "source": [
        "import nltk\n",
        "from nltk.corpus import machado\n",
        "nltk.download('machado')\n",
        "nltk.download('punkt')\n",
        "\n",
        "mcd = nltk.corpus.machado\n",
        "total_text = len(mcd.fileids())\n",
        "total_words = len(mcd.words())\n",
        "total_sents = len(mcd.sents())\n",
        "cats = mcd.categories()\n",
        "print('The total number of words in the corpus are ' + str(total_words))\n",
        "print('The total number of texts in the corpus are ' + str(total_text))\n",
        "print('The total number of sentences in the corpus are ' + str(total_sents))\n",
        "print('The 8 categories in the corpus are: ' + str(cats))\n",
        "\n",
        "# contos = mcd.categories('contos')\n",
        "# critica = mcd.categories('critica')\n",
        "# cronica = mcd.categories('cronics')\n",
        "# miscelanea = mcd.categories('miscelanea')\n",
        "# poesia = mcd.categories('poesia')\n",
        "# romance = mcd.categories('romance')\n",
        "# teatro = mcd.categories('teatro')\n",
        "# traducao = mcd.categories('traducao')\n",
        "\n",
        "mcd.words(fileids='contos/macn001.txt')"
      ],
      "execution_count": null,
      "outputs": [
        {
          "output_type": "stream",
          "text": [
            "[nltk_data] Downloading package machado to /root/nltk_data...\n",
            "[nltk_data] Downloading package punkt to /root/nltk_data...\n",
            "[nltk_data]   Unzipping tokenizers/punkt.zip.\n",
            "The total number of words in the corpus are 3121944\n",
            "The total number of texts in the corpus are 246\n",
            "The total number of sentences in the corpus are 200559\n",
            "The 8 categories in the corpus are: ['contos', 'critica', 'cronica', 'miscelanea', 'poesia', 'romance', 'teatro', 'traducao']\n"
          ],
          "name": "stdout"
        },
        {
          "output_type": "execute_result",
          "data": {
            "text/plain": [
              "['Conto', ',', 'Contos', 'Fluminenses', ',', '1870', ...]"
            ]
          },
          "metadata": {
            "tags": []
          },
          "execution_count": 2
        }
      ]
    },
    {
      "cell_type": "markdown",
      "metadata": {
        "id": "KoJXgU2xLrPS"
      },
      "source": [
        "3. Corpus reader functions: What functions does the NLTK corpus reader for this corpus provide? Write a\n",
        "short how-to guide that demonstrates how to use each function\n",
        "\n",
        "  The nltk corpus reader for the 'machado' corpus provides 11 main functions: \n",
        "  1. nltk.corpus.machado.fileids()\n",
        "  Inputing this function provides a list of files included in the corpus. For a specific text file you could insert the category of the text you are looking for like so: nltk.corpus.machado.fileids([categories])\n",
        "\n",
        "  2. nltk.corpus.machado.categories()\n",
        "  This function returns a list of categories in the corpus. You can also customize this function to a specific text by inputing the following code: nltk.corpus.machado.categories([fileids])\n",
        "\n",
        "  3. nltk.corpus.machado.raw()\n",
        "  This returns the raw content of the corpus, again customizable with the following: nltk.corpus.machado.raw(fileids=[]) which returns the raw content of specified files and nltk.corpus.machado.raw(categories=[]) which similarly returns the raw content of specified categories.\n",
        "\n",
        "  4. nltk.corpus.machado.words()\n",
        "  Returns the words of the entire corpus unless otherwise specified. Inputing the following: nltk.corpus.machado.words(fileids=[]) would return the words of the specified ids, while nltk.corpus.machado.words(categories=[]) would return the words of a specified category within the corpus.\n",
        "\n",
        "  5. nltk.corpus.machado.sents()\n",
        "  Very similar to the .words() function, this returns the sentences of the entire corpus unless otherwise specified. Inputing nltk.corpus.machado.sents(fileids=[]) and nltk.corpus.machado.sents(categories=[]) would return the sentences of specified file ids or categories within the corpus.\n",
        "\n",
        "  6. nltk.corpus.machado.encoding()\n",
        "  Returns the encoding of a specified file, so a specificed file would need to be inputed inside the parentheses like so: nltk.corpus.machado.encoding('contos/macn001.txt')\n",
        "\n",
        "  7. nltk.corpus.machado.root\n",
        "  This function returns the path to the root of the corpus if locally installed, running this through colab returns: ZipFilePathPointer('/root/nltk_data/corpora/machado.zip', 'machado/')\n",
        "\n",
        "  8. nltk.corpus.machado.readme()\n",
        "  Returns the contents of the README text file of the corpus, which usually contains helpful information about the corpus or metadata.\n",
        "\n",
        "  9. nltk.corpus.machado.paras()\n",
        "  Returns paragraphs of the entire corpus unless otherwise specified. Inputing a specific fileid or category within the parentheses would return the paragraph(s) of that specific text file.\n",
        "\n",
        "  10. nltk.corpus.machado.ensure_loaded()\n",
        "  I'm not entirely sure what this function does or its purpose but it looks like this is used to make sure the corpus is properly loaded (like the name implies)\n",
        "\n",
        "  11. nltk.corpus.machado.unicode_repr()\n",
        "  Returns the unicode text of the corpus: '<PortugueseCategorizedPlaintextCorpusReader in '/root/nltk_data/corpora/machado.zip/machado/'>'"
      ]
    },
    {
      "cell_type": "markdown",
      "metadata": {
        "id": "0oJx_iUOWD4K"
      },
      "source": [
        "4. Purpose: Think of at least two potential uses for this corpus and briefly describe them.\n",
        "\n",
        "I think this corpus would be good for research in literary stylistics for Portuguese literature or authors; specifically when looking at writing styles from the nineteenth century. The data available within this corpus would be good for looking at big-picture elements such as: diction, syntax and tone. It would also be interesting to use this as a comparison to current literary works from Portuguese authors to study any diachronic changes within specific genres such as poetry or prose. \n",
        "\n",
        "5. Challenges: Did you encounter any difficulties working with this data? What do you wish you could do with the data but can’t yet?\n",
        "\n",
        "No challenges so far, will update as I continue working with the dataset. I'm not familiar with Portuguese pronouns so that was a bit of a challenge for part two - this corpus isn't tagged either which would have been a really great asset.\n",
        "\n",
        "\n",
        "6. Publications: Is there a paper or website that provides more information about this corpus?\n",
        "\n",
        "Yes, the following website provides some descriptions on the project's goal, analysis tools used and specificities of the content within the corpus. \n",
        "http://machado.byu.edu/\n",
        "\n"
      ]
    },
    {
      "cell_type": "markdown",
      "metadata": {
        "id": "a4Masxppd6Mz"
      },
      "source": [
        "1. Averages: Compute the average lengths of things in your corpus. Depending on the data, you might\n",
        "compute any (or all) of the following: average # of sentences per document, average # of words per\n",
        "document, average # of words per sentence, average # of characters per word, etc."
      ]
    },
    {
      "cell_type": "code",
      "metadata": {
        "id": "mN1l37Ie2XLw",
        "colab": {
          "base_uri": "https://localhost:8080/",
          "height": 1000
        },
        "outputId": "48f6ecd4-52e8-40d5-abd0-19b912a8b96a"
      },
      "source": [
        "for fileid in nltk.corpus.machado.fileids():\n",
        "  num_words = len(nltk.corpus.machado.words(fileid))\n",
        "  num_sents = len(nltk.corpus.machado.sents(fileid))\n",
        "  num_chars = len(nltk.corpus.machado.raw(fileid))\n",
        "  print(round(num_chars/num_words), round(num_words/num_sents), fileid)\n",
        "\n",
      ],
      "execution_count": null,
      "outputs": [
        {
          "output_type": "stream",
          "text": [
            "5 13 contos/macn001.txt\n",
            "5 16 contos/macn002.txt\n",
            "5 20 contos/macn003.txt\n",
            "5 19 contos/macn004.txt\n",
            "5 18 contos/macn005.txt\n",
            "5 17 contos/macn006.txt\n",
            "5 18 contos/macn007.txt\n",
            "4 12 contos/macn008.txt\n",
            "5 19 contos/macn009.txt\n",
            "5 14 contos/macn010.txt\n",
            "5 15 contos/macn011.txt\n",
            "5 14 contos/macn012.txt\n",
            "5 14 contos/macn013.txt\n",
            "5 13 contos/macn014.txt\n",
            "5 19 contos/macn015.txt\n",
            "5 14 contos/macn016.txt\n",
            "5 13 contos/macn017.txt\n",
            "5 18 contos/macn018.txt\n",
            "5 14 contos/macn019.txt\n",
            "5 14 contos/macn020.txt\n",
            "5 16 contos/macn021.txt\n",
            "5 13 contos/macn022.txt\n",
            "5 16 contos/macn023.txt\n",
            "5 15 contos/macn024.txt\n",
            "5 15 contos/macn025.txt\n",
            "5 13 contos/macn026.txt\n",
            "5 12 contos/macn027.txt\n",
            "5 14 contos/macn028.txt\n",
            "5 14 contos/macn029.txt\n",
            "5 16 contos/macn030.txt\n",
            "5 15 contos/macn031.txt\n",
            "5 15 contos/macn032.txt\n",
            "5 18 contos/macn033.txt\n",
            "5 13 contos/macn034.txt\n",
            "5 18 contos/macn035.txt\n",
            "5 16 contos/macn036.txt\n",
            "5 15 contos/macn037.txt\n",
            "5 14 contos/macn038.txt\n",
            "5 14 contos/macn039.txt\n",
            "5 14 contos/macn040.txt\n",
            "5 12 contos/macn041.txt\n",
            "5 17 contos/macn042.txt\n",
            "5 15 contos/macn043.txt\n",
            "5 16 contos/macn044.txt\n",
            "5 14 contos/macn045.txt\n",
            "5 13 contos/macn046.txt\n",
            "5 12 contos/macn047.txt\n",
            "5 16 contos/macn048.txt\n",
            "5 12 contos/macn049.txt\n",
            "5 15 contos/macn050.txt\n",
            "5 14 contos/macn051.txt\n",
            "5 18 contos/macn052.txt\n",
            "5 13 contos/macn053.txt\n",
            "5 14 contos/macn054.txt\n",
            "5 13 contos/macn055.txt\n",
            "5 15 contos/macn056.txt\n",
            "5 11 contos/macn057.txt\n",
            "5 14 contos/macn058.txt\n",
            "5 16 contos/macn059.txt\n",
            "5 13 contos/macn060.txt\n",
            "5 15 contos/macn061.txt\n",
            "5 17 contos/macn062.txt\n",
            "5 14 contos/macn063.txt\n",
            "5 18 contos/macn064.txt\n",
            "5 12 contos/macn065.txt\n",
            "5 15 contos/macn066.txt\n",
            "5 16 contos/macn067.txt\n",
            "5 13 contos/macn068.txt\n",
            "5 13 contos/macn069.txt\n",
            "5 14 contos/macn070.txt\n",
            "5 15 contos/macn071.txt\n",
            "5 16 contos/macn072.txt\n",
            "7 7 contos/macn073.txt\n",
            "5 23 contos/macn074.txt\n",
            "5 16 contos/macn075.txt\n",
            "5 14 contos/macn076.txt\n",
            "5 15 contos/macn077.txt\n",
            "4 18 contos/macn078.txt\n",
            "5 13 contos/macn079.txt\n",
            "5 13 contos/macn080.txt\n",
            "5 16 contos/macn081.txt\n",
            "4 13 contos/macn082.txt\n",
            "5 16 contos/macn083.txt\n",
            "5 18 contos/macn084.txt\n",
            "5 17 contos/macn085.txt\n",
            "5 20 contos/macn086.txt\n",
            "5 17 contos/macn087.txt\n",
            "5 18 contos/macn088.txt\n",
            "5 21 contos/macn089.txt\n",
            "5 15 contos/macn090.txt\n",
            "4 15 contos/macn091.txt\n",
            "5 18 contos/macn092.txt\n",
            "5 18 contos/macn093.txt\n",
            "5 13 contos/macn094.txt\n",
            "5 16 contos/macn095.txt\n",
            "5 16 contos/macn096.txt\n",
            "4 17 contos/macn097.txt\n",
            "5 19 contos/macn098.txt\n",
            "4 18 contos/macn099.txt\n",
            "5 17 contos/macn100.txt\n",
            "4 18 contos/macn101.txt\n",
            "4 9 contos/macn102.txt\n",
            "4 15 contos/macn103.txt\n",
            "5 17 contos/macn104.txt\n",
            "5 14 contos/macn105.txt\n",
            "5 19 contos/macn106.txt\n",
            "5 17 contos/macn107.txt\n",
            "5 20 contos/macn108.txt\n",
            "4 22 contos/macn109.txt\n",
            "5 20 contos/macn110.txt\n",
            "4 19 contos/macn111.txt\n",
            "5 22 contos/macn112.txt\n",
            "5 15 contos/macn113.txt\n",
            "5 19 contos/macn114.txt\n",
            "4 17 contos/macn115.txt\n",
            "4 19 contos/macn116.txt\n",
            "5 18 contos/macn117.txt\n",
            "5 17 contos/macn118.txt\n",
            "5 18 contos/macn119.txt\n",
            "5 16 contos/macn120.txt\n",
            "4 15 contos/macn121.txt\n",
            "4 15 contos/macn122.txt\n",
            "5 16 contos/macn123.txt\n",
            "5 16 contos/macn124.txt\n",
            "5 15 contos/macn125.txt\n",
            "4 14 contos/macn126.txt\n",
            "5 18 contos/macn127.txt\n",
            "5 16 contos/macn128.txt\n",
            "5 17 contos/macn129.txt\n",
            "5 14 contos/macn130.txt\n",
            "5 18 contos/macn131.txt\n",
            "5 17 contos/macn132.txt\n",
            "5 14 contos/macn133.txt\n",
            "5 16 contos/macn134.txt\n",
            "5 19 contos/macn135.txt\n",
            "5 17 contos/macn136.txt\n",
            "5 17 contos/macn137.txt\n",
            "5 21 critica/mact01.txt\n",
            "5 20 critica/mact02.txt\n",
            "5 19 critica/mact03.txt\n",
            "5 26 critica/mact04.txt\n",
            "5 26 critica/mact05.txt\n",
            "5 19 critica/mact06.txt\n",
            "5 12 critica/mact07.txt\n",
            "5 20 critica/mact08.txt\n",
            "5 24 critica/mact09.txt\n",
            "5 21 critica/mact10.txt\n",
            "5 17 critica/mact11.txt\n",
            "5 23 critica/mact12.txt\n",
            "5 32 critica/mact13.txt\n",
            "5 24 critica/mact14.txt\n",
            "5 31 critica/mact15.txt\n",
            "5 38 critica/mact16.txt\n",
            "5 32 critica/mact17.txt\n",
            "5 30 critica/mact18.txt\n",
            "5 23 critica/mact19.txt\n",
            "5 20 critica/mact20.txt\n",
            "5 32 critica/mact21.txt\n",
            "5 21 critica/mact22.txt\n",
            "5 18 critica/mact23.txt\n",
            "5 17 critica/mact24.txt\n",
            "5 29 critica/mact25.txt\n",
            "5 22 critica/mact26.txt\n",
            "5 29 critica/mact27.txt\n",
            "5 26 critica/mact28.txt\n",
            "5 25 critica/mact29.txt\n",
            "5 28 critica/mact30.txt\n",
            "5 23 critica/mact31.txt\n",
            "5 28 critica/mact32.txt\n",
            "4 20 critica/mact33.txt\n",
            "5 19 critica/mact34.txt\n",
            "5 22 critica/mact35.txt\n",
            "5 26 critica/mact36.txt\n",
            "5 20 critica/mact37.txt\n",
            "5 19 critica/mact38.txt\n",
            "5 25 critica/mact39.txt\n",
            "5 23 critica/mact40.txt\n",
            "5 21 critica/mact41.txt\n",
            "5 21 critica/mact42.txt\n",
            "5 15 critica/mact43.txt\n",
            "5 26 critica/mact44.txt\n",
            "5 26 critica/mact45.txt\n",
            "5 22 cronica/macr01.txt\n",
            "5 15 cronica/macr02.txt\n",
            "5 26 cronica/macr03.txt\n",
            "5 22 cronica/macr04.txt\n",
            "5 21 cronica/macr05.txt\n",
            "5 13 cronica/macr06.txt\n",
            "5 18 cronica/macr07.txt\n",
            "5 15 cronica/macr08.txt\n",
            "5 24 cronica/macr09.txt\n",
            "5 20 cronica/macr10.txt\n",
            "5 18 cronica/macr11.txt\n",
            "5 20 cronica/macr12.txt\n",
            "5 18 cronica/macr13.txt\n",
            "5 17 cronica/macr14.txt\n",
            "5 18 cronica/macr15.txt\n",
            "5 22 cronica/macr16.txt\n",
            "5 24 cronica/macr17.txt\n",
            "5 11 cronica/macr18.txt\n",
            "5 23 cronica/macr19.txt\n",
            "5 23 cronica/macr20.txt\n",
            "5 19 cronica/macr21.txt\n",
            "5 17 cronica/macr22.txt\n",
            "5 16 cronica/macr23.txt\n",
            "5 26 cronica/macr24.txt\n",
            "5 22 miscelanea/mams01.txt\n",
            "5 21 miscelanea/mams02.txt\n",
            "5 24 miscelanea/mams03.txt\n",
            "5 24 miscelanea/mams04.txt\n",
            "5 23 miscelanea/mams05.txt\n",
            "5 19 miscelanea/mams06.txt\n",
            "5 32 miscelanea/mams07.txt\n",
            "5 27 miscelanea/mams08.txt\n",
            "5 21 miscelanea/mams09.txt\n",
            "5 21 miscelanea/mams10.txt\n",
            "5 7 poesia/maps01.txt\n",
            "5 7 poesia/maps02.txt\n",
            "5 7 poesia/maps03.txt\n",
            "5 6 poesia/maps04.txt\n",
            "5 7 poesia/maps05.txt\n",
            "5 7 poesia/maps06.txt\n",
            "5 6 poesia/maps07.txt\n",
            "5 16 romance/marm01.txt\n",
            "5 22 romance/marm02.txt\n",
            "5 17 romance/marm03.txt\n",
            "5 18 romance/marm04.txt\n",
            "5 20 romance/marm05.txt\n",
            "5 18 romance/marm06.txt\n",
            "5 16 romance/marm07.txt\n",
            "5 18 romance/marm08.txt\n",
            "5 17 romance/marm09.txt\n",
            "5 19 romance/marm10.txt\n",
            "5 9 teatro/matt01.txt\n",
            "5 5 teatro/matt02.txt\n",
            "5 6 teatro/matt03.txt\n",
            "5 6 teatro/matt04.txt\n",
            "5 7 teatro/matt05.txt\n",
            "5 5 teatro/matt06.txt\n",
            "4 7 teatro/matt07.txt\n",
            "4 11 teatro/matt08.txt\n",
            "4 10 teatro/matt09.txt\n",
            "4 10 teatro/matt10.txt\n",
            "4 8 traducao/matr01.txt\n",
            "5 15 traducao/matr02.txt\n",
            "5 17 traducao/matr03.txt\n"
          ],
          "name": "stdout"
        }
      ]
    },
    {
      "cell_type": "markdown",
      "metadata": {
        "id": "odJfAPiYAWAu"
      },
      "source": [
        "2. Pronoun distributions: How often do different pronouns (or pronoun types) occur in your corpus? What\n",
        "can we learn from this? \n",
        "\n",
        "So I don't think I'm able to answer this with the corpus I've chosen, at least not as far as I can see, so I'm going to import a tagged corpus from nltk so I can search through the text for pronouns. Or I could create a for loop so search for a specific list of words? I'm not sure.\n"
      ]
    },
    {
      "cell_type": "code",
      "metadata": {
        "id": "F8V3jAvRE-TT",
        "colab": {
          "base_uri": "https://localhost:8080/",
          "height": 1000
        },
        "outputId": "8d707c7d-9fc9-42bb-eabc-a9401333db1d"
      },
      "source": [
        "#well this didn't work\n",
        "# import difflib\n",
        "# from difflib import get_close_matches\n",
        "# def close_matches(patterns, word):\n",
        "#   print(get_close_matches(word, patterns))\n",
        "# if __name__== \"__main__\":\n",
        "#   word = 'tu'\n",
        "#   patterns = ['eu', 'ele', 'nós', 'vós']\n",
        "#   close_matches(patterns, word)\n",
        "\n",
        "nltk.download('mac_morpho')\n",
        "nltk.corpus.mac_morpho.words()\n",
        "nltk.corpus.mac_morpho.tagged_sents()\n",
        "word_tags = nltk.corpus.mac_morpho.tagged_words()\n",
        "word_tags_fd = nltk.FreqDist(word_tags)\n",
        "[word + '-' + tag for (word,tag) in word_tags_fd if tag.startswith('PROP')]"
      ],
      "execution_count": null,
      "outputs": [
        {
          "output_type": "stream",
          "text": [
            "[nltk_data] Downloading package mac_morpho to /root/nltk_data...\n",
            "[nltk_data]   Package mac_morpho is already up-to-date!\n"
          ],
          "name": "stdout"
        },
        {
          "output_type": "execute_result",
          "data": {
            "text/plain": [
              "['Ele-PROPESS',\n",
              " 'se-PROPESS',\n",
              " 'Ela-PROPESS',\n",
              " 'eles-PROPESS',\n",
              " 'ela-PROPESS',\n",
              " 'ele-PROPESS',\n",
              " 'Eles-PROPESS',\n",
              " 'elas-PROPESS',\n",
              " 'o-PROPESS',\n",
              " 'O-PROPESS',\n",
              " 'las-PROPESS',\n",
              " 'a-PROPESS',\n",
              " 'lhe-PROPESS',\n",
              " 'nos-PROPESS',\n",
              " 'eu-PROPESS',\n",
              " 'los-PROPESS',\n",
              " 'os-PROPESS',\n",
              " 'nós-PROPESS',\n",
              " 'la-PROPESS',\n",
              " 'lo-PROPESS',\n",
              " 'no-PROPESS',\n",
              " 'Nós-PROPESS',\n",
              " 'ti-PROPESS',\n",
              " 'lhes-PROPESS',\n",
              " 'as-PROPESS',\n",
              " 'mim-PROPESS',\n",
              " 'me-PROPESS',\n",
              " 'Eu-PROPESS',\n",
              " 'você-PROPESS',\n",
              " 'Você-PROPESS',\n",
              " 'vocês-PROPESS',\n",
              " 'si-PROPESS',\n",
              " 'Elas-PROPESS',\n",
              " 'Os-PROPESS',\n",
              " 'Vocês-PROPESS',\n",
              " 'te-PROPESS',\n",
              " 'na-PROPESS',\n",
              " 'Se-PROPESS',\n",
              " 'Me-PROPESS',\n",
              " 'meu-PROPESS',\n",
              " 'voce-PROPESS',\n",
              " 'mesmo-PROPESS',\n",
              " 'Mim-PROPESS',\n",
              " 'La-PROP',\n",
              " 'Coruña-PROP',\n",
              " 'Portuguesa-PROP',\n",
              " 'EUA-PROP',\n",
              " 'Nóis-PROPESS',\n",
              " 'nóis-PROPESS',\n",
              " 'vos-PROPESS',\n",
              " 'A-PROPESS',\n",
              " 'mesma-PROPESS',\n",
              " 'SE-PROPESS',\n",
              " 'Tu-PROPESS',\n",
              " 'Me-PROPESS|EST',\n",
              " 'D-PROP',\n",
              " '&-PROP',\n",
              " 'G-PROP',\n",
              " 'isso-PROPESS',\n",
              " 'no*-PROPESS',\n",
              " 'Te-PROPESS',\n",
              " 'Nos-PROPESS',\n",
              " 'lhe&lhes-PROPESS|+',\n",
              " 'te-PROPESS|+',\n",
              " 'Vossa-PROPESS',\n",
              " 'Majestade-PROPESS',\n",
              " 'sí-PROPESS',\n",
              " 'ocê-PROPESS',\n",
              " 'tu-PROPESS',\n",
              " 'Vós-PROPESS',\n",
              " 'La-PROPESS']"
            ]
          },
          "metadata": {
            "tags": []
          },
          "execution_count": 45
        }
      ]
    },
    {
      "cell_type": "markdown",
      "metadata": {
        "id": "B-HM0QN4G9M_"
      },
      "source": [
        "3. Dispersion plot: Think of a question that you could answer by building one (or more) dispersion plot\n",
        "from your corpus. Describe the question, build and display the dispersion plot, and describe the\n",
        "results.\n",
        "\n",
        "Question One: Choose two categories from the corpus and 5 'keywords' to compare the placement of those words throughout the texts. What does this imply about the two different categories?\n",
        "\n",
        "The results show that the pronoun 'tu' is common in both texts which is not a surprising results, since pronouns are often one of the most commmon types of words found throughout corpora. The results for 'hora' in the poesia category were a bit surprising, espescially the loss of frequency as the texts go on.\n",
        "\n",
        "Question Two: For one category, use a dispersion plot to find any overlapping of keywords or target terms. Are the texts within the same category similar or different?\n",
        "\n",
        "The dispersion of the keywords within the same category are not as similar as I thought. However, there are some similarities with the words 'fazer' and 'anos' which seem to be the most frequent in both plots. "
      ]
    },
    {
      "cell_type": "code",
      "metadata": {
        "id": "Tb9NADqJHAFz",
        "colab": {
          "base_uri": "https://localhost:8080/",
          "height": 1000
        },
        "outputId": "719c3f71-2882-43fa-87e0-8edda283aa58"
      },
      "source": [
        "from nltk.draw.dispersion import dispersion_plot\n",
        "from nltk.text import Text\n",
        "#Question One:\n",
        "cron_tokens = nltk.corpus.machado.words(categories = 'cronica')\n",
        "cron_text = Text(cron_tokens)\n",
        "poe_tokens = nltk.corpus.machado.words(categories='poesia')\n",
        "poe_text = Text(poe_tokens)\n",
        "targets = ['tu', 'café', 'hora', 'linda', 'esperar']\n",
        "dispersion_plot(cron_text, targets, ignore_case=True, title='Cronica Dispersion Plot' )\n",
        "dispersion_plot(poe_text, targets, ignore_case=True, title=\"Poesia Dispersion Plot\")\n",
        "\n",
        "#Question Two:\n",
        "rom_tokens = nltk.corpus.machado.words(fileids='romance/marm09.txt')\n",
        "rom2_tokens = nltk.corpus.machado.words(fileids='romance/marm03.txt')\n",
        "rom_text = Text(rom_tokens)\n",
        "rom2_text = Text(rom2_tokens)\n",
        "targets2 = ['amor', 'fazer', 'hoje', 'anos', 'esposa']\n",
        "dispersion_plot(rom_text, targets2, ignore_case=True,  title='Romance Dispersion Plot 1')\n",
        "dispersion_plot(rom2_text, targets2, ignore_case=True, title='Romance Dispersion Plot 2')\n"
      ],
      "execution_count": null,
      "outputs": [
        {
          "output_type": "display_data",
          "data": {
            "image/png": "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\n",
            "text/plain": [
              "<Figure size 432x288 with 1 Axes>"
            ]
          },
          "metadata": {
            "tags": [],
            "needs_background": "light"
          }
        },
        {
          "output_type": "display_data",
          "data": {
            "image/png": "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\n",
            "text/plain": [
              "<Figure size 432x288 with 1 Axes>"
            ]
          },
          "metadata": {
            "tags": [],
            "needs_background": "light"
          }
        },
        {
          "output_type": "display_data",
          "data": {
            "image/png": "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\n",
            "text/plain": [
              "<Figure size 432x288 with 1 Axes>"
            ]
          },
          "metadata": {
            "tags": [],
            "needs_background": "light"
          }
        },
        {
          "output_type": "display_data",
          "data": {
            "image/png": "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\n",
            "text/plain": [
              "<Figure size 432x288 with 1 Axes>"
            ]
          },
          "metadata": {
            "tags": [],
            "needs_background": "light"
          }
        }
      ]
    },
    {
      "cell_type": "markdown",
      "metadata": {
        "id": "FGAekuq3wqH4"
      },
      "source": [
        "4. Search: Think of two questions you might be able to answer by searching your corpus. To do the\n",
        "search, use the combination of for-loop and if-statement(s) you learned in Lab 3. (Alternately, you can\n",
        "do this with list comprehensions.) For each question, describe the question, show the code and results,\n",
        "and describe the results. \n",
        "\n",
        "Question 1: Compare the use of adjectives from different categories within the corpus.\n",
        "\n",
        "The results show the list of adjective followed by their freq counts for the category 'romance' in the corpus.\n",
        "\n",
        "Question 2: Generate a random sentence based off a specified fileid. Does the output read/look similar to the actual text in question?\n",
        "\n",
        "The results produce a nonsensical text generated from a text within the corpus. Generating random text usually ends with meaningless sentences or phrases but it's interesting to play around with. "
      ]
    },
    {
      "cell_type": "code",
      "metadata": {
        "id": "CRBmgdOdx-bi",
        "colab": {
          "base_uri": "https://localhost:8080/",
          "height": 34
        },
        "outputId": "cf305d6c-2985-4e30-90e9-14811bdb5abc"
      },
      "source": [
        "#Question 1:\n",
        "romance_text = nltk.corpus.machado.words(categories='romance')\n",
        "freq = nltk.FreqDist(romance_text)\n",
        "adjectives = ['grande', 'bonita', 'bom', 'velho', 'frio', 'mau']\n",
        "for a in adjectives:\n",
        "  print(a + ':', + freq[a], end=' ')\n",
        "\n",
        "#Question 2:\n",
        "teatro_sent = nltk.corpus.machado.sents(fileids='teatro/matt08.txt')\n",
        "list(nltk.bigrams(teatro_sent[:5]))\n",
        "def generate_text(cfdist, word, num=15):\n",
        "  for i in range(num):\n",
        "    print(word, end=' ')\n",
        "    word = cfdist[word].max()\n",
        "teatro_text = nltk.corpus.machado.words(fileids='teatro/matt08.txt')\n",
        "bigrams = nltk.bigrams(teatro_text)\n",
        "cfd = nltk.ConditionalFreqDist(bigrams)\n",
        "cfd['amor']\n",
        "generate_text(cfd, 'amor')"
      ],
      "execution_count": null,
      "outputs": [
        {
          "output_type": "stream",
          "text": [
            "grande: 435 bonita: 92 bom: 278 velho: 205 frio: 53 mau: 84 amor , que não é que não é que não é que não é que "
          ],
          "name": "stdout"
        }
      ]
    }
  ]
}
