{
  "nbformat": 4,
  "nbformat_minor": 0,
  "metadata": {
    "colab": {
      "name": "Py4Text_Lab2.ipynb",
      "provenance": [],
      "collapsed_sections": [],
      "include_colab_link": true
    },
    "kernelspec": {
      "name": "python3",
      "display_name": "Python 3"
    }
  },
  "cells": [
    {
      "cell_type": "markdown",
      "metadata": {
        "id": "view-in-github",
        "colab_type": "text"
      },
      "source": [
        "<a href=\"https://colab.research.google.com/github/cristina-ramos/class_P4T/blob/main/cristina-ramos/class_P4T/Assignments/Py4Text_Lab2.ipynb\" target=\"_parent\"><img src=\"https://colab.research.google.com/assets/colab-badge.svg\" alt=\"Open In Colab\"/></a>"
      ]
    },
    {
      "cell_type": "markdown",
      "metadata": {
        "id": "Qkj5P4Ja415w"
      },
      "source": [
        "# Data Types - Lab 2, Python for Text, Fall 2020\n",
        "\n",
        "---\n",
        "\n",
        "\n",
        "\n",
        "\n",
        "---\n",
        "\n",
        "To be completed and submitted by Sunday, September 6. \n",
        "\n",
        "At different points in the notebook, you will encounter something that's looking for an answer (you'll know, because it'll say **ANSWER** in bold highlighted text. For each of these, add your answer to the notebook.\n",
        "* For non-code answers, create a new text cell by clicking **+Text** in the upper left-hand corner of the window\n",
        "* For answers that require writing code, create a new code cell instead, by clicking **+Code**\n",
        "\n",
        "When you create text blocks, feel free to play around with the different text formatting options. (Hint: Colab uses Markdown formatting features - you may have used some of these already if you frequent Reddit).\n",
        "Try the different kinds of headers, ordered, and unordered lists. Try adding a code snippet within a text block, too.\n",
        "\n",
        "### Have questions?\n",
        "\n",
        "1. You can use Colab's commenting function to ask questions about things in the notebook - if you add comments to the shared version of the notebook, we will see them and answer them. Before you add a comment, be sure you know whether you're looking at the main copy (shared with the class) or your own copy.\n",
        "1. Alternately, you can ask questions on the Canvas discussion boards.\n",
        "\n",
        "## Reminder\n",
        "\n",
        "You will need to submit your own notebook (or rather, a link to your own notebook). There are (at least) two ways to do this:\n",
        "\n",
        "1. Make a copy of this notebook, rename it, and add new code cells when you want to write your own code.\n",
        "1. Create a new Python 3 notebook using the `File` menu and type in all cells yourself. \n",
        "\n",
        "Either way, your file should be named using this format: `LastName_Py4Text_Lab2.ipynb`"
      ]
    },
    {
      "cell_type": "markdown",
      "metadata": {
        "id": "WKuduFps5K-D"
      },
      "source": [
        "# 1. Operators, variables, and data types:\n",
        "\n"
      ]
    },
    {
      "cell_type": "markdown",
      "metadata": {
        "id": "x18uPFmvlH9W"
      },
      "source": [
        "The first thing on the agenda will be your best friend and biggest help, although it doesn't do anything to the state of your programs.\n",
        "\n",
        "![comment.jpeg](data:image/jpeg;base64,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)\n",
        "\n",
        "\n",
        "Welcome the **comment**. **Comments** are notes in your code that you can leave to help other people -- and especially yourself -- to understand your code. The computer will totally ignore your **comments** when running your code. In python, a **comment** is everything in a line that begins with `#`.\n",
        "\n",
        "\n",
        "```\n",
        "# this is a comment\n",
        "```\n",
        "\n",
        "Run the cells below - what happens?"
      ]
    },
    {
      "cell_type": "code",
      "metadata": {
        "id": "LbXjh1lBmhPT"
      },
      "source": [
        "# this is a comment and the computer will ignore it"
      ],
      "execution_count": null,
      "outputs": []
    },
    {
      "cell_type": "code",
      "metadata": {
        "id": "URuTH2LsmmHC",
        "colab": {
          "base_uri": "https://localhost:8080/",
          "height": 130
        },
        "outputId": "2006f9b3-589c-4994-d743-bea6576be442"
      },
      "source": [
        "# this is a comment\n",
        "this is not a comment"
      ],
      "execution_count": null,
      "outputs": [
        {
          "output_type": "error",
          "ename": "SyntaxError",
          "evalue": "ignored",
          "traceback": [
            "\u001b[0;36m  File \u001b[0;32m\"<ipython-input-4-73d28f79e00b>\"\u001b[0;36m, line \u001b[0;32m2\u001b[0m\n\u001b[0;31m    this is not a comment\u001b[0m\n\u001b[0m                        ^\u001b[0m\n\u001b[0;31mSyntaxError\u001b[0m\u001b[0;31m:\u001b[0m invalid syntax\n"
          ]
        }
      ]
    },
    {
      "cell_type": "markdown",
      "metadata": {
        "id": "JkJR96ZggGVG"
      },
      "source": [
        "It is very, very, very, very good practice to use lots of comments in your code, to explain what is happening where and - most importantly - why.\n",
        "\n"
      ]
    },
    {
      "cell_type": "markdown",
      "metadata": {
        "id": "TqMIqNeCb83m"
      },
      "source": [
        "## Mathematical operators\n",
        "\n",
        "So far we have used Python as calculator, calculating fairly simple things like:\n",
        "\n",
        "```\n",
        ">>> 3 + 7\n",
        "10\n",
        "```\n",
        "\n",
        "Python supports a number of built-in basic mathematical operators, as well as having quite powerful mathematical libraries. Most of the basic operators are pretty straightforward, and you'll want to be comfortable using them. Here is a list of the most useful ones with an example of how to use each one:\n",
        "\n",
        "\n",
        "*   `+` Addition `3+2`\n",
        "*   `-` Subtraction `3-2`\n",
        "*   `*` Multiplication `3*2`\n",
        "*   `/` Division `3/2`\n",
        "*   `//` Integer Division (or floor division) `3//2`\n",
        "*   `%` Modulo `3%2`\n",
        "*   `**` Exponent `3**2` (means $3^2$)\n",
        "\n",
        "\n"
      ]
    },
    {
      "cell_type": "code",
      "metadata": {
        "id": "PAS5Z5zoPjse",
        "colab": {
          "base_uri": "https://localhost:8080/",
          "height": 34
        },
        "outputId": "d77048c4-6b95-4f2f-a3c3-7433ae777e91"
      },
      "source": [
        "3+2"
      ],
      "execution_count": null,
      "outputs": [
        {
          "output_type": "execute_result",
          "data": {
            "text/plain": [
              "5"
            ]
          },
          "metadata": {
            "tags": []
          },
          "execution_count": 7
        }
      ]
    },
    {
      "cell_type": "code",
      "metadata": {
        "id": "E61FsR80Pw13",
        "colab": {
          "base_uri": "https://localhost:8080/",
          "height": 34
        },
        "outputId": "86ddb35e-0c5c-40ec-d8dc-12165105d6ff"
      },
      "source": [
        "3-2"
      ],
      "execution_count": null,
      "outputs": [
        {
          "output_type": "execute_result",
          "data": {
            "text/plain": [
              "1"
            ]
          },
          "metadata": {
            "tags": []
          },
          "execution_count": 8
        }
      ]
    },
    {
      "cell_type": "code",
      "metadata": {
        "id": "fZN7tS75PyOM",
        "colab": {
          "base_uri": "https://localhost:8080/",
          "height": 34
        },
        "outputId": "363f81c1-b7fd-4ef8-ba51-667ca99837c4"
      },
      "source": [
        "3*2"
      ],
      "execution_count": null,
      "outputs": [
        {
          "output_type": "execute_result",
          "data": {
            "text/plain": [
              "6"
            ]
          },
          "metadata": {
            "tags": []
          },
          "execution_count": 9
        }
      ]
    },
    {
      "cell_type": "code",
      "metadata": {
        "id": "HoIwnDluPzka",
        "colab": {
          "base_uri": "https://localhost:8080/",
          "height": 34
        },
        "outputId": "65188382-0ee7-4ff6-f9e0-710bf6cc67ff"
      },
      "source": [
        "3/2"
      ],
      "execution_count": null,
      "outputs": [
        {
          "output_type": "execute_result",
          "data": {
            "text/plain": [
              "1.5"
            ]
          },
          "metadata": {
            "tags": []
          },
          "execution_count": 10
        }
      ]
    },
    {
      "cell_type": "code",
      "metadata": {
        "id": "aEtFGnboP1Si",
        "colab": {
          "base_uri": "https://localhost:8080/",
          "height": 34
        },
        "outputId": "28418853-a63e-4cd4-fa1d-f097748edf6e"
      },
      "source": [
        "3//2"
      ],
      "execution_count": null,
      "outputs": [
        {
          "output_type": "execute_result",
          "data": {
            "text/plain": [
              "1"
            ]
          },
          "metadata": {
            "tags": []
          },
          "execution_count": 11
        }
      ]
    },
    {
      "cell_type": "code",
      "metadata": {
        "id": "KJsDchFKP2qW",
        "colab": {
          "base_uri": "https://localhost:8080/",
          "height": 34
        },
        "outputId": "d5ba75fe-c46a-4675-9bbe-5836a49694d7"
      },
      "source": [
        "3%2"
      ],
      "execution_count": null,
      "outputs": [
        {
          "output_type": "execute_result",
          "data": {
            "text/plain": [
              "1"
            ]
          },
          "metadata": {
            "tags": []
          },
          "execution_count": 12
        }
      ]
    },
    {
      "cell_type": "code",
      "metadata": {
        "id": "d616myT6P5aE",
        "colab": {
          "base_uri": "https://localhost:8080/",
          "height": 34
        },
        "outputId": "2d38e228-14c6-4513-ee33-1a3b23bb1dbf"
      },
      "source": [
        "3**2"
      ],
      "execution_count": null,
      "outputs": [
        {
          "output_type": "execute_result",
          "data": {
            "text/plain": [
              "9"
            ]
          },
          "metadata": {
            "tags": []
          },
          "execution_count": 13
        }
      ]
    },
    {
      "cell_type": "code",
      "metadata": {
        "id": "Z1dqruOF33WL",
        "colab": {
          "base_uri": "https://localhost:8080/",
          "height": 34
        },
        "outputId": "e0b1b2f4-f4de-4ade-f87b-815489d96974"
      },
      "source": [
        "### note: we can also print the outputs of mathematical expressions\n",
        "print(3*2)"
      ],
      "execution_count": null,
      "outputs": [
        {
          "output_type": "stream",
          "text": [
            "6\n"
          ],
          "name": "stdout"
        }
      ]
    },
    {
      "cell_type": "markdown",
      "metadata": {
        "id": "mLrguzKAP_Sc"
      },
      "source": [
        "Most of the operations should be familiar. Two that you might not have encountered are `//` and `%`.\n",
        "\n",
        "\n",
        "`//` is floor division. It rounds the result down to the next whole number.\n",
        "```\n",
        ">>> 10 // 3\n",
        "3\n",
        "```\n",
        "\n",
        "`%` is the modulo operator. It returns the remainder of the divison of two whole numbers\n",
        "```\n",
        ">>> 10 % 3\n",
        "1\n",
        "```"
      ]
    },
    {
      "cell_type": "markdown",
      "metadata": {
        "id": "4Of4Agvki4jz"
      },
      "source": [
        "### **ANSWER:**\n",
        "\n",
        "> Explain both *floor division* and *modulo* in your own words. Next, choose one and give an example of what it could be useful for in a program. Be creative."
      ]
    },
    {
      "cell_type": "markdown",
      "metadata": {
        "id": "Gs28nUK1c0wy"
      },
      "source": [
        "Floor division is the division of two integers with the answer rounded to the next whole number. If the answer is negative then the answer is \"floored\" and rounded away from zero. \n",
        "\n",
        "Modulo is also division where only the remainder is shown. For example, when dividing 10/3 the returned answer includes decimal points which are usually rounded up. The modulo function returns the remainder of the division. \n",
        "As far as practical purposes go, I've yet to use these two functions in a program. However, this blog: https://hatoum.com/blog/2012/12/practical-uses-for-modulo-operator.html#:~:text=The%20modulus%20operator%20returns%20the,4%20perfectly%2C%20without%20a%20remainder.\n",
        "included some useful examples. I think the example of \"editing\" an audio file through the modulo functions is pretty neat. This would be a useful function when analyzing spoken data."
      ]
    },
    {
      "cell_type": "markdown",
      "metadata": {
        "id": "jeq09DTVwVrl"
      },
      "source": [
        "These basic mathematical operators are loaded automatically as part of python. Some other mathematical functions are not loaded automatically but have to be requested."
      ]
    },
    {
      "cell_type": "code",
      "metadata": {
        "id": "HuZd4jAwwiaz"
      },
      "source": [
        "import math\n",
        "math.sqrt(9843654984984632165)"
      ],
      "execution_count": null,
      "outputs": []
    },
    {
      "cell_type": "markdown",
      "metadata": {
        "id": "cfhuQpZqwoAb"
      },
      "source": [
        "The first line in the code block above imports the `math` package, and then we have access to the square root function (`sqrt`). Since this function comes from the `math` package, we need to preface the name of the function with the name of the package - that's why we write `math.sqrt()`. \n",
        "\n",
        "That way, if you happen to also import another package in which `sqrt()` is a function that prints 20 exclamation marks on the screen, you have an easy way to distinguish between the two.\n",
        "\n",
        "### **ANSWER:**\n",
        "\n",
        "> Python packages come with extensive documentation that you can find online. Use a search engine to search for `python math module` - one of the first few links should go to the right page at https://docs.python.org. Find another math function that's interesting to you, explain it here, and write some code showing how to use it.\n",
        "\n",
        "Remember this website and use it often! "
      ]
    },
    {
      "cell_type": "markdown",
      "metadata": {
        "id": "PE0Zz0VwmbN-"
      },
      "source": [
        "Another math function included in python that I find both useful and interesting is the math.fabs() function. This function returns the absolute value of a number or valid numerical expression. I think being able to use this function on both lists and tuples makes it especially useful as well.\n",
        "\n",
        "\n"
      ]
    },
    {
      "cell_type": "code",
      "metadata": {
        "id": "LmGuxWDamsZN",
        "colab": {
          "base_uri": "https://localhost:8080/",
          "height": 85
        },
        "outputId": "e0f09024-3803-4f71-f340-5e88a50a4eb9"
      },
      "source": [
        "import math\n",
        "print(math.fabs(10))\n",
        "print(math.fabs(-20))\n",
        "list1 = [-1, 3, -4, 2.5, 5]\n",
        "print(math.fabs(list1[2]))\n",
        "print(math.fabs(list1[3]))\n"
      ],
      "execution_count": null,
      "outputs": [
        {
          "output_type": "stream",
          "text": [
            "10.0\n",
            "20.0\n",
            "4.0\n",
            "2.5\n"
          ],
          "name": "stdout"
        }
      ]
    },
    {
      "cell_type": "markdown",
      "metadata": {
        "id": "TTRCJNd6jU9i"
      },
      "source": [
        "### Order of operations\n",
        "\n",
        "As in math the order of the operators is very important. You need to keep in mind in which order they are evaluated. There is quite a big difference between\n",
        "`5+3*2` and `(5+3)*2`.\n",
        "\n",
        "From chapter 2 of *Think Python: How to Think Like a Computer Scientist*:\n",
        "\n",
        "> 2.5  Order of operations\n",
        ">\n",
        ">When an expression contains more than one operator, the order of evaluation depends on the order of operations. For mathematical operators, Python follows mathematical convention. The acronym PEMDAS is a useful way to remember the rules:\n",
        ">\n",
        "> * **Parentheses** have the highest precedence and can be used to force an expression to evaluate in the order you want. Since expressions in parentheses are evaluated first, `2 * (3-1)` is `4`, and `(1+1)**(5-2)` is `8`. You can also use parentheses to make an expression easier to read, as in `(minute * 100) / 60`, even if it doesn’t change the result.\n",
        "* **Exponentiation** has the next highest precedence, so `1 + 2**3` is `9`, not `27`, and `2 * 3**2` is `18`, not `36`.\n",
        "* **Multiplication** and **Division** have higher precedence than **Addition** and **Subtraction**. So `2*3-1` is `5`, not `4`, and `6+4/2` is `8`, not `5`.\n",
        "* Operators with the same precedence are evaluated from left to right (except exponentiation). So in the expression `degrees / 2 * pi`, the division happens first and the result is multiplied by `pi`. To divide by 2 π, you can use parentheses or write `degrees / 2 / pi`.\n"
      ]
    },
    {
      "cell_type": "markdown",
      "metadata": {
        "id": "Hm9_F7q7JmAO"
      },
      "source": [
        "Now we have all the tools to solve a more complex problem - do you remember this, the Bonus Question from Lab 1?\n",
        "\n",
        "*If you run a 10 kilometer race in 42 minutes 42 seconds, what is your average pace (time per mile in minutes and seconds)?*\n",
        "\n",
        "This problem asks us to compute the average pace (in other words, the time it takes to cover a certain distance) of a runner (you), but with a twist. To compute the pace, we need to divide **time** by **distance**\n",
        "In this problem, we're given the distance in kilometers but asked to compute the average pace for each mile. That means we'll need to convert some units.\n",
        "\n",
        "To get to the answer, we need to perform the following steps:\n",
        "1. Convert the distance (10 kilometers) to miles.\n",
        "1. Convert the time from the form \"x minutes y seconds\" into either minutes (with a decimal) or seconds.\n",
        "1. Divide the total time by the total distance to get the average pace.\n",
        "1. Convert the time back to the form \"x minutes y seconds\"\n"
      ]
    },
    {
      "cell_type": "code",
      "metadata": {
        "id": "-_fEJ_bhbjsN",
        "colab": {
          "base_uri": "https://localhost:8080/",
          "height": 34
        },
        "outputId": "20bc5282-6a2c-4fa0-ef8f-f0c5df6d4aa7"
      },
      "source": [
        "# distance in miles (remember we've been told that there are 1.61 kilometers to a mile)\n",
        "# we divide the number of kilometers by the conversion factor\n",
        "10 / 1.61\n"
      ],
      "execution_count": null,
      "outputs": [
        {
          "output_type": "execute_result",
          "data": {
            "text/plain": [
              "6.211180124223602"
            ]
          },
          "metadata": {
            "tags": []
          },
          "execution_count": 15
        }
      ]
    },
    {
      "cell_type": "code",
      "metadata": {
        "id": "df_UBb9MknqD",
        "colab": {
          "base_uri": "https://localhost:8080/",
          "height": 34
        },
        "outputId": "28dd1528-44c5-4b35-99aa-6b41f09f6cf0"
      },
      "source": [
        "# time in minutes\n",
        "# we add the number of minutes to the number of seconds divided by 60, to get the seconds as a percentage of one minute\n",
        "42 + 42/60"
      ],
      "execution_count": null,
      "outputs": [
        {
          "output_type": "execute_result",
          "data": {
            "text/plain": [
              "42.7"
            ]
          },
          "metadata": {
            "tags": []
          },
          "execution_count": 14
        }
      ]
    },
    {
      "cell_type": "code",
      "metadata": {
        "id": "tuknt5DOlZiq",
        "colab": {
          "base_uri": "https://localhost:8080/",
          "height": 34
        },
        "outputId": "9a700482-05cf-49d2-b033-229d01c8b6bd"
      },
      "source": [
        "# pace in minutes\n",
        "# we divide the number of minutes by the number of miles (rounded to three decimal places)\n",
        "42.7 / 6.211"
      ],
      "execution_count": null,
      "outputs": [
        {
          "output_type": "execute_result",
          "data": {
            "text/plain": [
              "6.87489937208179"
            ]
          },
          "metadata": {
            "tags": []
          },
          "execution_count": 13
        }
      ]
    },
    {
      "cell_type": "code",
      "metadata": {
        "id": "E-joNS4bl0bO",
        "colab": {
          "base_uri": "https://localhost:8080/",
          "height": 34
        },
        "outputId": "85a59c16-c785-4861-a8b8-0532c953ae22"
      },
      "source": [
        "# convert decimals back to seconds\n",
        "# we multiply the (rounded) decimal part of the pace computed just above by 60, to convert it back into a number of seconds\n",
        "0.875 * 60"
      ],
      "execution_count": null,
      "outputs": [
        {
          "output_type": "execute_result",
          "data": {
            "text/plain": [
              "52.5"
            ]
          },
          "metadata": {
            "tags": []
          },
          "execution_count": 12
        }
      ]
    },
    {
      "cell_type": "markdown",
      "metadata": {
        "id": "qCEFQa-WmoWX"
      },
      "source": [
        "Our pace is: 6 minutes and 53 seconds (rounded).\n",
        "\n",
        "\n",
        "Of course, calculating it like this is cumbersome. Among other things, we need to transfer the results from one cell to another. One way to get around this is to calculate it all in one go.\n",
        "\n",
        "Before you unhide the code below, sketch out for yourself how you might compute the average pace in just one or two lines of code, using only numbers and mathematical operators. Then take a look at one possible solution."
      ]
    },
    {
      "cell_type": "code",
      "metadata": {
        "id": "B7Vtnnt0mkE4",
        "colab": {
          "base_uri": "https://localhost:8080/",
          "height": 34
        },
        "outputId": "7a52a221-9fa0-400c-88da-a1708b705d21"
      },
      "source": [
        "#@title\n",
        "# minutes portion of the pace\n",
        "(42 + 42/60) // (10/1.61) "
      ],
      "execution_count": null,
      "outputs": [
        {
          "output_type": "execute_result",
          "data": {
            "text/plain": [
              "6.0"
            ]
          },
          "metadata": {
            "tags": []
          },
          "execution_count": 10
        }
      ]
    },
    {
      "cell_type": "code",
      "metadata": {
        "id": "Fx357V31owA_",
        "colab": {
          "base_uri": "https://localhost:8080/",
          "height": 34
        },
        "outputId": "9f0a42b5-a300-4aaf-d6e3-e8ea6f7dcfc9"
      },
      "source": [
        "#@title\n",
        "# seconds portion of the pace\n",
        "( ( (42 + 42/60) / (10/1.61) ) - ( (42 + 42/60) // (10/1.61) ) ) * 60"
      ],
      "execution_count": null,
      "outputs": [
        {
          "output_type": "execute_result",
          "data": {
            "text/plain": [
              "52.4820000000001"
            ]
          },
          "metadata": {
            "tags": []
          },
          "execution_count": 11
        }
      ]
    },
    {
      "cell_type": "markdown",
      "metadata": {
        "id": "OIaWoqm_oxx4"
      },
      "source": [
        "This is (arguably) a bit better than the first way we did it, since we don't have to manually enter intermediate results. But we can still do much better, and make our code easier to read at the same time."
      ]
    },
    {
      "cell_type": "markdown",
      "metadata": {
        "id": "h8hW6Efdm-YI"
      },
      "source": [
        "## Variables\n",
        "\n",
        "In the code above, you can see that we perform the time to minutes conversion, `42 + 42 / 60`, three separate times. We also do the kilometers-to-miles conversion three times. A much better strategy is to store these intermediate results in **variables**.\n",
        "\n",
        "**Variables** allow us to store, retrieve and manipulate data. You can think of a **variable** as giving a name to a value, or of **assigning** a value to the variable. For example\n",
        "\n",
        "```\n",
        "x = 3\n",
        "```\n",
        "\n",
        "assigns the value `3` to the variable named `x`. We can now use `x` the same way we can use the number `3`, and with the same results."
      ]
    },
    {
      "cell_type": "code",
      "metadata": {
        "id": "N6j1ONDqp0fq",
        "colab": {
          "base_uri": "https://localhost:8080/",
          "height": 34
        },
        "outputId": "d2c083d1-ab66-489c-b36a-ba3af9314067"
      },
      "source": [
        "# assign 3 to x\n",
        "x = 3\n",
        "# add 3 and x\n",
        "3 + x"
      ],
      "execution_count": null,
      "outputs": [
        {
          "output_type": "execute_result",
          "data": {
            "text/plain": [
              "6"
            ]
          },
          "metadata": {
            "tags": []
          },
          "execution_count": 16
        }
      ]
    },
    {
      "cell_type": "markdown",
      "metadata": {
        "id": "lar1Z3BqqcVg"
      },
      "source": [
        "It is important to note that `3 + x` did not change the value of `x`. To change the value of variable you need assign a new value to it. To increase the value of our variable by 3 we need to do the following:"
      ]
    },
    {
      "cell_type": "code",
      "metadata": {
        "id": "VUXu9qrorP98"
      },
      "source": [
        "# assign 3 to x\n",
        "x = 3\n",
        "# increase x by 3\n",
        "x = x + 3"
      ],
      "execution_count": null,
      "outputs": []
    },
    {
      "cell_type": "markdown",
      "metadata": {
        "id": "XOlmU0GmrbM0"
      },
      "source": [
        "`x`'s new value is now `6`. But since we are curious people we would like to confirm that.  The `print` function allows us \"print\" values onto the screen. Last time we used the `print` function to display some text.\n",
        "\n",
        "```\n",
        ">>> print('Hello World')\n",
        "Hello World\n",
        "```\n",
        "\n",
        "If we call the `print` function and give it a variable as a parameter, it will print the content of the variable to the screen.\n",
        "\n",
        "\n"
      ]
    },
    {
      "cell_type": "code",
      "metadata": {
        "id": "UTejG94Eh0Q8",
        "colab": {
          "base_uri": "https://localhost:8080/",
          "height": 34
        },
        "outputId": "89ea0ba2-2336-4b42-ac5d-20a58e04434b"
      },
      "source": [
        "print(x)"
      ],
      "execution_count": null,
      "outputs": [
        {
          "output_type": "stream",
          "text": [
            "6\n"
          ],
          "name": "stdout"
        }
      ]
    },
    {
      "cell_type": "markdown",
      "metadata": {
        "id": "eQjQtugwiN_e"
      },
      "source": [
        "When we use operators to assign new values to variables, we are not limited to operations between a variable and a number (like `x = x + 3`). Variables can be on both sides of the operator, as long as our program already knows about the variable."
      ]
    },
    {
      "cell_type": "code",
      "metadata": {
        "id": "G1S8Pj4ijLXz",
        "colab": {
          "base_uri": "https://localhost:8080/",
          "height": 34
        },
        "outputId": "5d6400b8-9b35-4259-cdb4-5ad87e8f9d13"
      },
      "source": [
        "a = 3\n",
        "b = 4\n",
        "c = a + b\n",
        "print(c)"
      ],
      "execution_count": null,
      "outputs": [
        {
          "output_type": "stream",
          "text": [
            "7\n"
          ],
          "name": "stdout"
        }
      ]
    },
    {
      "cell_type": "code",
      "metadata": {
        "id": "_P4lxccBrmCz",
        "colab": {
          "base_uri": "https://localhost:8080/",
          "height": 164
        },
        "outputId": "297b30ab-babb-4521-b521-fad3aec90c4d"
      },
      "source": [
        "d = a + e"
      ],
      "execution_count": null,
      "outputs": [
        {
          "output_type": "error",
          "ename": "NameError",
          "evalue": "ignored",
          "traceback": [
            "\u001b[0;31m---------------------------------------------------------------------------\u001b[0m",
            "\u001b[0;31mNameError\u001b[0m                                 Traceback (most recent call last)",
            "\u001b[0;32m<ipython-input-21-c102379823ed>\u001b[0m in \u001b[0;36m<module>\u001b[0;34m()\u001b[0m\n\u001b[0;32m----> 1\u001b[0;31m \u001b[0md\u001b[0m \u001b[0;34m=\u001b[0m \u001b[0ma\u001b[0m \u001b[0;34m+\u001b[0m \u001b[0me\u001b[0m\u001b[0;34m\u001b[0m\u001b[0;34m\u001b[0m\u001b[0m\n\u001b[0m",
            "\u001b[0;31mNameError\u001b[0m: name 'e' is not defined"
          ]
        }
      ]
    },
    {
      "cell_type": "markdown",
      "metadata": {
        "id": "-bK_--OTmcmN"
      },
      "source": [
        "When it comes to naming variables we have very few constraints. We can give them pretty much whatever name we want to. The rules for variable names are:\n",
        "\n",
        "\n",
        "\n",
        "*   Allowed characters in variable names are:\n",
        "  *  Latin letters, upper and lower case\n",
        "  *  Numbers \n",
        "  *  The underscore `_`\n",
        "*  Names cannot start with a number\n",
        "*  Names cannot be in the list of reserved words\n",
        "\n",
        "List of reserved words:\n",
        "```\n",
        "False      await      else       import     pass\n",
        "None       break      except     in         raise\n",
        "True       class      finally    is         return\n",
        "and        continue   for        lambda     try\n",
        "as         def        from       nonlocal   while\n",
        "assert     del        global     not        with\n",
        "async      elif       if         or         yield\n",
        "```\n",
        "\n",
        "**WARNING:** There are some names that are already defined in python that you can still use as a variable name, for example `print`. If you use `print` as a variable name, such as:\n",
        "\n",
        "``` print = 2 + 3 ```\n",
        "\n",
        "python will not complain, but the function `print` will no longer do what you're expecting it to do. You have basically overwritten the previous value of `print`. This is a very easy mistake to make, and can be difficult to track down!\n",
        "\n",
        "Although we *can* name our variables anything we want to, that doesn't mean we *should* - it's very helpful to use meaningful variable names.\n",
        "\n",
        "\n",
        "Bad Example:\n",
        "```\n",
        "asdasdfwasdew = 24\n",
        "joe = 60\n",
        "x = 60\n",
        "temp = asdasdfwasdew * joe\n",
        "blah1 = joe * x\n",
        "```\n",
        "Looking at this code you would have little idea of what it does\n",
        "\n",
        "Good Example:\n",
        "```\n",
        "hours_in_day = 24\n",
        "minutes_in_hour = 60\n",
        "seconds_in_minute = 60\n",
        "minutes_in_day = hours_in_day * minutes_in_hour\n",
        "seconds_in_hour = minutes_in_hour * seconds_in_minute\n",
        "```\n",
        "\n",
        "To the computer, these two pieces of code are equivalent - they accomplish the same thing. To a human, one makes much more sense. Variable names are there to help you, the programmer, and others who may need to read your code. Use them to your advantage!\n"
      ]
    },
    {
      "cell_type": "markdown",
      "metadata": {
        "id": "RUiCXShbjJp2"
      },
      "source": [
        "### **ANSWER:**\n",
        "\n",
        "> You should now be able to solve the question from earlier much more elegantly.\n",
        "\n",
        "> Write code that solves this question: *If you run a 10 kilometer race in 42 minutes 42 seconds, what is your average pace (time per mile in minutes and seconds)?*\n",
        "\n",
        "> Make use of variables to store your intermediate results, so that you don't have to calculate the same value multiple times."
      ]
    },
    {
      "cell_type": "code",
      "metadata": {
        "id": "VIAsHJWKqa--",
        "colab": {
          "base_uri": "https://localhost:8080/",
          "height": 102
        },
        "outputId": "dd883f29-d69e-4430-ff31-4312fa1f940e"
      },
      "source": [
        "km_miles = 10/1.609\n",
        "#converting km to miles\n",
        "print(km_miles)\n",
        "#distance run in miles is 6.215\n",
        "miles = 6.215\n",
        "time_sec = 42*60+42\n",
        "print(time_sec)\n",
        "#2562 secs\n",
        "avg_speed_secs = miles/time_sec\n",
        "print(avg_speed_secs)\n",
        "time_min = 42+42/60\n",
        "print(time_min)\n",
        "#42.7 minutes\n",
        "avg_speed_min = miles/time_min\n",
        "print(avg_speed_min)"
      ],
      "execution_count": null,
      "outputs": [
        {
          "output_type": "stream",
          "text": [
            "6.215040397762586\n",
            "2562\n",
            "0.0024258391881342703\n",
            "42.7\n",
            "0.14555035128805618\n"
          ],
          "name": "stdout"
        }
      ]
    },
    {
      "cell_type": "markdown",
      "metadata": {
        "id": "eySjFvjls3c8"
      },
      "source": [
        "For more on variables, read pages 19-23 of Chapter 2 in *Python Crash Course* (link in the Text Resources page in Canvas)."
      ]
    },
    {
      "cell_type": "markdown",
      "metadata": {
        "id": "aZyxxVwuu4Es"
      },
      "source": [
        "### Expressions vs. statements\n",
        "\n",
        "A program is made up of individual lines of code, and most lines of python code that we'll write can be classified as either **expressions** or **statements**. This is an important distinction, as they behave differently.\n",
        "\n",
        "Read sections 2.1-2.3 of Chapter 2 in *Think Python*, then answer the following:\n",
        "\n"
      ]
    },
    {
      "cell_type": "markdown",
      "metadata": {
        "id": "dtroNXjEyc8A"
      },
      "source": [
        "### **ANSWER:**\n",
        "\n",
        "> In your own words, define both terms (expression and statement).\n",
        "\n",
        "> In a code block, write three examples of expressions and three examples of statements. Clearly indicate which is which, using comments."
      ]
    },
    {
      "cell_type": "markdown",
      "metadata": {
        "id": "T8wK9YmjyWOw"
      },
      "source": [
        "An expression can include variables, operators and values. So the following are all expressions:\n",
        ">>> 24\n",
        "\n",
        ">>> x\n",
        "\n",
        ">>> x + 24\n",
        "\n",
        "A statement is a code that has an effect, so the command print() produces a statement. The following is also a statement:\n",
        ">>> x = 12\n",
        "\n",
        "There is no execution being done, you are simply assigning a value to x."
      ]
    },
    {
      "cell_type": "code",
      "metadata": {
        "id": "plC71nRP0ZVU",
        "colab": {
          "base_uri": "https://localhost:8080/",
          "height": 34
        },
        "outputId": "cd2399b3-09b7-46cd-e508-713ee2de32be"
      },
      "source": [
        "#expressions:\n",
        "24\n",
        "x\n",
        "x +24\n",
        "#statements:\n",
        "x = 12\n",
        "print(x)"
      ],
      "execution_count": null,
      "outputs": [
        {
          "output_type": "stream",
          "text": [
            "12\n"
          ],
          "name": "stdout"
        }
      ]
    },
    {
      "cell_type": "markdown",
      "metadata": {
        "id": "PeA0FauZqDpJ"
      },
      "source": [
        "## Data types\n",
        "\n",
        "Every value in python has a type - a data type. We have encountered data of (at least) three types so far:\n",
        "\n",
        "* integers (3, 5, 7)\n",
        "* floating point numbers (3.0, 5.392, 0.77777)\n",
        "* strings (\"hello\")\n",
        "\n",
        "Different data types come with different operations. Integers and floating point numbers can be added, subtracted, divided, and a whole host of other mathematical operations. Strings can be concatenated (added to each other), you can count letters in them, and so on.\n",
        "\n"
      ]
    },
    {
      "cell_type": "code",
      "metadata": {
        "id": "5eRjComI0Mlo",
        "colab": {
          "base_uri": "https://localhost:8080/",
          "height": 34
        },
        "outputId": "a5408858-22a9-4ce1-f5c4-edae67f00fb7"
      },
      "source": [
        "123 - 20"
      ],
      "execution_count": null,
      "outputs": [
        {
          "output_type": "execute_result",
          "data": {
            "text/plain": [
              "103"
            ]
          },
          "metadata": {
            "tags": []
          },
          "execution_count": 34
        }
      ]
    },
    {
      "cell_type": "code",
      "metadata": {
        "id": "vNWOgK9q0Oin",
        "colab": {
          "base_uri": "https://localhost:8080/",
          "height": 35
        },
        "outputId": "6bddbd85-50b1-4853-ba55-5dad83564df3"
      },
      "source": [
        "\"hello\" + \"world\""
      ],
      "execution_count": null,
      "outputs": [
        {
          "output_type": "execute_result",
          "data": {
            "application/vnd.google.colaboratory.intrinsic+json": {
              "type": "string"
            },
            "text/plain": [
              "'helloworld'"
            ]
          },
          "metadata": {
            "tags": []
          },
          "execution_count": 35
        }
      ]
    },
    {
      "cell_type": "code",
      "metadata": {
        "id": "7gfIA56u0T-9",
        "colab": {
          "base_uri": "https://localhost:8080/",
          "height": 164
        },
        "outputId": "ba68c44e-3cea-4c05-87e9-674d4995c245"
      },
      "source": [
        "\"hello\" - \"world\""
      ],
      "execution_count": null,
      "outputs": [
        {
          "output_type": "error",
          "ename": "TypeError",
          "evalue": "ignored",
          "traceback": [
            "\u001b[0;31m---------------------------------------------------------------------------\u001b[0m",
            "\u001b[0;31mTypeError\u001b[0m                                 Traceback (most recent call last)",
            "\u001b[0;32m<ipython-input-36-13ef35cf25bc>\u001b[0m in \u001b[0;36m<module>\u001b[0;34m()\u001b[0m\n\u001b[0;32m----> 1\u001b[0;31m \u001b[0;34m\"hello\"\u001b[0m \u001b[0;34m-\u001b[0m \u001b[0;34m\"world\"\u001b[0m\u001b[0;34m\u001b[0m\u001b[0;34m\u001b[0m\u001b[0m\n\u001b[0m",
            "\u001b[0;31mTypeError\u001b[0m: unsupported operand type(s) for -: 'str' and 'str'"
          ]
        }
      ]
    },
    {
      "cell_type": "code",
      "metadata": {
        "id": "VT-pAbAz0Wgm",
        "colab": {
          "base_uri": "https://localhost:8080/",
          "height": 34
        },
        "outputId": "735f1adc-d1db-480c-8053-db6b319ef628"
      },
      "source": [
        "len(\"hello\")"
      ],
      "execution_count": null,
      "outputs": [
        {
          "output_type": "execute_result",
          "data": {
            "text/plain": [
              "5"
            ]
          },
          "metadata": {
            "tags": []
          },
          "execution_count": 37
        }
      ]
    },
    {
      "cell_type": "code",
      "metadata": {
        "id": "TSA9w0CC0YIC",
        "colab": {
          "base_uri": "https://localhost:8080/",
          "height": 164
        },
        "outputId": "71e9190a-310a-43a4-ac19-65e19539034f"
      },
      "source": [
        "len(123)"
      ],
      "execution_count": null,
      "outputs": [
        {
          "output_type": "error",
          "ename": "TypeError",
          "evalue": "ignored",
          "traceback": [
            "\u001b[0;31m---------------------------------------------------------------------------\u001b[0m",
            "\u001b[0;31mTypeError\u001b[0m                                 Traceback (most recent call last)",
            "\u001b[0;32m<ipython-input-38-a95e54e61f62>\u001b[0m in \u001b[0;36m<module>\u001b[0;34m()\u001b[0m\n\u001b[0;32m----> 1\u001b[0;31m \u001b[0mlen\u001b[0m\u001b[0;34m(\u001b[0m\u001b[0;36m123\u001b[0m\u001b[0;34m)\u001b[0m\u001b[0;34m\u001b[0m\u001b[0;34m\u001b[0m\u001b[0m\n\u001b[0m",
            "\u001b[0;31mTypeError\u001b[0m: object of type 'int' has no len()"
          ]
        }
      ]
    },
    {
      "cell_type": "code",
      "metadata": {
        "id": "fUfiseLd0aA5",
        "colab": {
          "base_uri": "https://localhost:8080/",
          "height": 34
        },
        "outputId": "916bad20-1e4b-4437-fe92-17cea74fc9b4"
      },
      "source": [
        "len(\"123\")"
      ],
      "execution_count": null,
      "outputs": [
        {
          "output_type": "execute_result",
          "data": {
            "text/plain": [
              "3"
            ]
          },
          "metadata": {
            "tags": []
          },
          "execution_count": 39
        }
      ]
    },
    {
      "cell_type": "markdown",
      "metadata": {
        "id": "zb_XM7_61D3p"
      },
      "source": [
        "By the way: when something goes wrong, python gives you an error message. READ THE ERROR MESSAGES! The messages can help you figure out what went wrong with your code. Especially in the beginning, you will see a lot of error messages. Don't worry - this is entirely normal. I promise.\n",
        "\n",
        "The function we just used - `len()` - returns the length of its argument, in this case a string. It works for the string \"hello\" - 5 characters long - but not for the integer 123. The error message we get tells us that integers don't have a length - in other words, the `len()` function doesn't work on integers. We get an output again if we change to the string version of the number -- `\"123\"` - the quotation marks around the number tell us that it's a string.\n",
        "\n",
        "To figure out the data type of a value, we use python's `type()` function. We can use `type()` either with the value itself or with a variable holding that value. (I like to think of variables as containers that store values. The type of a variable is the type of its contents.)"
      ]
    },
    {
      "cell_type": "code",
      "metadata": {
        "id": "ERwFA0qr2Jc9",
        "colab": {
          "base_uri": "https://localhost:8080/",
          "height": 34
        },
        "outputId": "bfee5235-37a9-45af-d644-6144ba321752"
      },
      "source": [
        "### establish some variables\n",
        "x = \"this\"\n",
        "y = 123\n",
        "z = \"123\"\n",
        "\n",
        "### check their types\n",
        "type(x)"
      ],
      "execution_count": null,
      "outputs": [
        {
          "output_type": "execute_result",
          "data": {
            "text/plain": [
              "str"
            ]
          },
          "metadata": {
            "tags": []
          },
          "execution_count": 40
        }
      ]
    },
    {
      "cell_type": "code",
      "metadata": {
        "id": "xE9lWj8z2WG-",
        "colab": {
          "base_uri": "https://localhost:8080/",
          "height": 34
        },
        "outputId": "fa332518-50b7-4f03-cf09-bd41c61216a3"
      },
      "source": [
        "type(\"that\")"
      ],
      "execution_count": null,
      "outputs": [
        {
          "output_type": "execute_result",
          "data": {
            "text/plain": [
              "str"
            ]
          },
          "metadata": {
            "tags": []
          },
          "execution_count": 41
        }
      ]
    },
    {
      "cell_type": "code",
      "metadata": {
        "id": "51rtTJ9E2ZHi",
        "colab": {
          "base_uri": "https://localhost:8080/",
          "height": 34
        },
        "outputId": "58fbbf68-5fe0-4855-ade5-5e4ade06d9f1"
      },
      "source": [
        "type(y)"
      ],
      "execution_count": null,
      "outputs": [
        {
          "output_type": "execute_result",
          "data": {
            "text/plain": [
              "int"
            ]
          },
          "metadata": {
            "tags": []
          },
          "execution_count": 42
        }
      ]
    },
    {
      "cell_type": "code",
      "metadata": {
        "id": "r7_jGiCk2bZW",
        "colab": {
          "base_uri": "https://localhost:8080/",
          "height": 34
        },
        "outputId": "37baee3a-f558-49d4-adf7-ecf2c697e17d"
      },
      "source": [
        "type(z)"
      ],
      "execution_count": null,
      "outputs": [
        {
          "output_type": "execute_result",
          "data": {
            "text/plain": [
              "str"
            ]
          },
          "metadata": {
            "tags": []
          },
          "execution_count": 43
        }
      ]
    },
    {
      "cell_type": "markdown",
      "metadata": {
        "id": "urDNhlp52g7i"
      },
      "source": [
        "There are built-in functions in python that convert data from one type to another, so we can convert floats to integers, integers to floats, integers to strings, and (some) strings to either integers or floats."
      ]
    },
    {
      "cell_type": "code",
      "metadata": {
        "id": "qZazhQHF27Jg",
        "colab": {
          "base_uri": "https://localhost:8080/",
          "height": 34
        },
        "outputId": "c3641077-e1d4-410f-ac87-b4c3f2b35c87"
      },
      "source": [
        "### convert to integer (from float)\n",
        "int(7.589)"
      ],
      "execution_count": null,
      "outputs": [
        {
          "output_type": "execute_result",
          "data": {
            "text/plain": [
              "7"
            ]
          },
          "metadata": {
            "tags": []
          },
          "execution_count": 44
        }
      ]
    },
    {
      "cell_type": "code",
      "metadata": {
        "id": "-I_GDc-A3J92",
        "colab": {
          "base_uri": "https://localhost:8080/",
          "height": 34
        },
        "outputId": "fa11830c-8aa2-49e2-bbef-613cce66c3ae"
      },
      "source": [
        "### convert to float (from integer)\n",
        "float(42)"
      ],
      "execution_count": null,
      "outputs": [
        {
          "output_type": "execute_result",
          "data": {
            "text/plain": [
              "42.0"
            ]
          },
          "metadata": {
            "tags": []
          },
          "execution_count": 45
        }
      ]
    },
    {
      "cell_type": "code",
      "metadata": {
        "id": "P0mWexut3MUb",
        "colab": {
          "base_uri": "https://localhost:8080/",
          "height": 35
        },
        "outputId": "168d8017-5241-49eb-8b8f-9bfbb82c06bc"
      },
      "source": [
        "### convert to string (from integer)\n",
        "str(42)"
      ],
      "execution_count": null,
      "outputs": [
        {
          "output_type": "execute_result",
          "data": {
            "application/vnd.google.colaboratory.intrinsic+json": {
              "type": "string"
            },
            "text/plain": [
              "'42'"
            ]
          },
          "metadata": {
            "tags": []
          },
          "execution_count": 46
        }
      ]
    },
    {
      "cell_type": "code",
      "metadata": {
        "id": "FKpM5l663OrC",
        "colab": {
          "base_uri": "https://localhost:8080/",
          "height": 34
        },
        "outputId": "42196de3-9fa6-4087-bd49-a4e003d4040b"
      },
      "source": [
        "### convert to float (from string)\n",
        "float(\"2435.1\")"
      ],
      "execution_count": null,
      "outputs": [
        {
          "output_type": "execute_result",
          "data": {
            "text/plain": [
              "2435.1"
            ]
          },
          "metadata": {
            "tags": []
          },
          "execution_count": 47
        }
      ]
    },
    {
      "cell_type": "code",
      "metadata": {
        "id": "wHB80XAs3oxF",
        "colab": {
          "base_uri": "https://localhost:8080/",
          "height": 181
        },
        "outputId": "d9bbb329-89ed-4d54-d8f7-a9442dd10835"
      },
      "source": [
        "### not all conversions are possible\n",
        "float(\"cat\")"
      ],
      "execution_count": null,
      "outputs": [
        {
          "output_type": "error",
          "ename": "ValueError",
          "evalue": "ignored",
          "traceback": [
            "\u001b[0;31m---------------------------------------------------------------------------\u001b[0m",
            "\u001b[0;31mValueError\u001b[0m                                Traceback (most recent call last)",
            "\u001b[0;32m<ipython-input-48-e891dedbb708>\u001b[0m in \u001b[0;36m<module>\u001b[0;34m()\u001b[0m\n\u001b[1;32m      1\u001b[0m \u001b[0;31m### not all conversions are possible\u001b[0m\u001b[0;34m\u001b[0m\u001b[0;34m\u001b[0m\u001b[0;34m\u001b[0m\u001b[0m\n\u001b[0;32m----> 2\u001b[0;31m \u001b[0mfloat\u001b[0m\u001b[0;34m(\u001b[0m\u001b[0;34m\"cat\"\u001b[0m\u001b[0;34m)\u001b[0m\u001b[0;34m\u001b[0m\u001b[0;34m\u001b[0m\u001b[0m\n\u001b[0m",
            "\u001b[0;31mValueError\u001b[0m: could not convert string to float: 'cat'"
          ]
        }
      ]
    },
    {
      "cell_type": "markdown",
      "metadata": {
        "id": "i20VRtgt4Aow"
      },
      "source": [
        "Read more on data types:\n",
        "* Python Crash Course, chapter 2, pages 30-32"
      ]
    },
    {
      "cell_type": "markdown",
      "metadata": {
        "id": "Uh5bxOJV5EFj"
      },
      "source": [
        "### **ANSWER:**\n",
        "\n",
        "> Store your favorite number in a variable. Then, using that variable, create a message that reveals your favorite number. Print that message. (HINT: you'll need knowledge from the reading to do this)"
      ]
    },
    {
      "cell_type": "code",
      "metadata": {
        "id": "u_dwIn-V2KuY",
        "colab": {
          "base_uri": "https://localhost:8080/",
          "height": 34
        },
        "outputId": "a2fe91a6-5514-455e-b5d9-d14fd08d06c6"
      },
      "source": [
        "fav = 24\n",
        "msg = \"My favorite number is \" + str(fav) + \"!\"\n",
        "print(msg)"
      ],
      "execution_count": null,
      "outputs": [
        {
          "output_type": "stream",
          "text": [
            "My favorite number is 24!\n"
          ],
          "name": "stdout"
        }
      ]
    },
    {
      "cell_type": "markdown",
      "metadata": {
        "id": "HY3HX_pcYlDp"
      },
      "source": [
        "# 2. Working with strings\n",
        "\n",
        "For textual data, strings are *the* most important data type. A string is simply a series of characters, and characters can be letters, numbers, punctuation, symbols, and even white space (spaces, tabs, returns).\n",
        "\n",
        "Python is a great programming language for dealing with strings, as many useful functions for doing things to or with strings are already built into the language.\n",
        "\n",
        "Read pages 23-29 in chapter 2 of Python Crash Course, then do the following exercises. (Start a new code block for each exercise, and use comments to say which is which.)\n",
        "\n"
      ]
    },
    {
      "cell_type": "markdown",
      "metadata": {
        "id": "IWYwvG_p7QHa"
      },
      "source": [
        "### **ANSWER:**\n",
        "\n",
        "> a. Store a person's name in a variable, and print a message to that person. Your message should be simple, such as, \"Hello Dhivya, would you like to learn some Python today?\"\n",
        "\n",
        "> b. Store a person's name in a variable, and then print that person's name in lowercase, uppercase, and titlecase.\n",
        "\n",
        "> c. Find a quote from a famous person you admire. Print the quote and the name of its author. Your output should looks something like the following, including the quotation marks:\n",
        "\n",
        "    Albert Einstein once said, \"A person who never made a mistake never tried anything new.\"\n",
        "\n",
        "> d. Store a person's name, and include some whitespace characters at the beginning and end of the name. Make sure you use each character combination, \"\\t\" and \"\\n\", at least once. Print the name once, so the whitespace around the name is displayed. Then print the name using each of the three stripping functions: `lstrip()`, `rstrip()`, and `strip()`. Also print the length (in characters) of each version of the name."
      ]
    },
    {
      "cell_type": "code",
      "metadata": {
        "id": "7L1d0xrj3U7R",
        "colab": {
          "base_uri": "https://localhost:8080/",
          "height": 289
        },
        "outputId": "387a9005-0cb0-42bd-d783-fee0a11b60c3"
      },
      "source": [
        "\n",
        "#A\n",
        "name = \"jorge\"\n",
        "msg = \"Hello \" + name.title() + \", would you like to learn some Python today?\"\n",
        "print(msg)\n",
        "#B\n",
        "name2 = \"bruce wayne\"\n",
        "print(name2.title())\n",
        "print(name2.lower())\n",
        "print(name2.upper())\n",
        "#C\n",
        "quote = \"'You either die a hero, or live long enough to see yourself become the villain.'\"\n",
        "author = \"batman\"\n",
        "msg2 = author.title() + \" once said, \" + quote\n",
        "print(msg2)\n",
        "#D\n",
        "name3 = \" harry potter \"\n",
        "print(name3)\n",
        "print(len(name3))\n",
        "name_v1 = \"\\tharry \\npotter\"\n",
        "print(name_v1)\n",
        "print(len(name_v1))\n",
        "print(name3.lstrip())\n",
        "print(len(name3.lstrip()))\n",
        "print(name3.rstrip())\n",
        "print(len(name3.rstrip()))\n",
        "print(name3.strip())\n",
        "print(len(name3.strip()))"
      ],
      "execution_count": null,
      "outputs": [
        {
          "output_type": "stream",
          "text": [
            "Hello Jorge, would you like to learn some Python today?\n",
            "Bruce Wayne\n",
            "bruce wayne\n",
            "BRUCE WAYNE\n",
            "Batman once said, 'You either die a hero, or live long enough to see yourself become the villain.'\n",
            " harry potter \n",
            "14\n",
            "\tharry \n",
            "potter\n",
            "14\n",
            "harry potter \n",
            "13\n",
            " harry potter\n",
            "13\n",
            "harry potter\n",
            "12\n"
          ],
          "name": "stdout"
        }
      ]
    },
    {
      "cell_type": "markdown",
      "metadata": {
        "id": "AUoLFKCA8IEM"
      },
      "source": [
        "## More built-in string methods\n",
        "\n",
        "Python offers a large number of built-in methods for doing things to strings. Most of them don't actually change the string but instead produce a new version of the string. \n",
        "\n"
      ]
    },
    {
      "cell_type": "code",
      "metadata": {
        "id": "Qm-kUp9P-A4B",
        "colab": {
          "base_uri": "https://localhost:8080/",
          "height": 51
        },
        "outputId": "e5a82f88-560d-4c58-d3b7-f07d8e028beb"
      },
      "source": [
        "### see how the string assigned to the variable doesn't change?\n",
        "mystring = \"what a cat!\"\n",
        "print(mystring.upper())\n",
        "print(mystring)"
      ],
      "execution_count": null,
      "outputs": [
        {
          "output_type": "stream",
          "text": [
            "WHAT A CAT!\n",
            "what a cat!\n"
          ],
          "name": "stdout"
        }
      ]
    },
    {
      "cell_type": "markdown",
      "metadata": {
        "id": "F1aliEP8-WkL"
      },
      "source": [
        "On this page is a list of built-in string methods: https://www.w3schools.com/python/python_ref_string.asp\n",
        "\n",
        "For more detail on any of these, look again to the Python documentation: https://docs.python.org/3/library/stdtypes.html#string-methods"
      ]
    },
    {
      "cell_type": "markdown",
      "metadata": {
        "id": "vl15CKzP-rtu"
      },
      "source": [
        "### **ANSWER:**\n",
        "\n",
        "> Choose at least three string methods from the website linked above and show what they do in a code block below. Choose new methods - stay away from the `strip()` methods and case-related methods that you learned about in the reading."
      ]
    },
    {
      "cell_type": "code",
      "metadata": {
        "id": "V43TeWiu-eqf",
        "colab": {
          "base_uri": "https://localhost:8080/",
          "height": 51
        },
        "outputId": "62e074ef-da80-442b-df68-36d9774c2a21"
      },
      "source": [
        "string_1 = \"hOW aRE yOU dOING?\"\n",
        "print(string_1.swapcase())\n",
        "print(string_1)"
      ],
      "execution_count": null,
      "outputs": [
        {
          "output_type": "stream",
          "text": [
            "How Are You Doing?\n",
            "hOW aRE yOU dOING?\n"
          ],
          "name": "stdout"
        }
      ]
    },
    {
      "cell_type": "markdown",
      "metadata": {
        "id": "sFVguZ_e_Jko"
      },
      "source": [
        "You may have noticed that some methods return `True` or `False` instead of returning a string. These are called **Boolean methods** - we'll learn more about these soon, but for now, here are a couple of examples."
      ]
    },
    {
      "cell_type": "code",
      "metadata": {
        "id": "LzxJKuMr_yUi",
        "colab": {
          "base_uri": "https://localhost:8080/",
          "height": 34
        },
        "outputId": "082ba6fd-4c3b-4f55-bac2-b5c488b556ae"
      },
      "source": [
        "string1 = \"rhinocerous\"\n",
        "string2 = \"nosegay37\"\n",
        "string3 = \"happiness\"\n",
        "\n",
        "string3.endswith(\"ness\")"
      ],
      "execution_count": null,
      "outputs": [
        {
          "output_type": "execute_result",
          "data": {
            "text/plain": [
              "True"
            ]
          },
          "metadata": {
            "tags": []
          },
          "execution_count": 86
        }
      ]
    },
    {
      "cell_type": "code",
      "metadata": {
        "id": "287csMovANmf",
        "colab": {
          "base_uri": "https://localhost:8080/",
          "height": 34
        },
        "outputId": "89738497-5f21-41c2-b674-3140b93a1c12"
      },
      "source": [
        "string1.endswith(\"ness\")"
      ],
      "execution_count": null,
      "outputs": [
        {
          "output_type": "execute_result",
          "data": {
            "text/plain": [
              "False"
            ]
          },
          "metadata": {
            "tags": []
          },
          "execution_count": 87
        }
      ]
    },
    {
      "cell_type": "code",
      "metadata": {
        "id": "lmM9ARflASMZ",
        "colab": {
          "base_uri": "https://localhost:8080/",
          "height": 34
        },
        "outputId": "78e88470-4d68-4fd0-d316-50bb730db6cd"
      },
      "source": [
        "string1.isalpha()"
      ],
      "execution_count": null,
      "outputs": [
        {
          "output_type": "execute_result",
          "data": {
            "text/plain": [
              "True"
            ]
          },
          "metadata": {
            "tags": []
          },
          "execution_count": 88
        }
      ]
    },
    {
      "cell_type": "code",
      "metadata": {
        "id": "KX4AiOrWAYv9",
        "colab": {
          "base_uri": "https://localhost:8080/",
          "height": 34
        },
        "outputId": "d218e6d1-5a84-41b2-a543-52a8d1dcee0a"
      },
      "source": [
        "string2.isalpha()"
      ],
      "execution_count": null,
      "outputs": [
        {
          "output_type": "execute_result",
          "data": {
            "text/plain": [
              "False"
            ]
          },
          "metadata": {
            "tags": []
          },
          "execution_count": 89
        }
      ]
    },
    {
      "cell_type": "code",
      "metadata": {
        "id": "kMrS9G6nAf3m",
        "colab": {
          "base_uri": "https://localhost:8080/",
          "height": 34
        },
        "outputId": "e7a49408-38f6-4d95-a074-2276db54835e"
      },
      "source": [
        "string2.isalnum()"
      ],
      "execution_count": null,
      "outputs": [
        {
          "output_type": "execute_result",
          "data": {
            "text/plain": [
              "True"
            ]
          },
          "metadata": {
            "tags": []
          },
          "execution_count": 90
        }
      ]
    },
    {
      "cell_type": "markdown",
      "metadata": {
        "id": "lN40q0gSH1M3"
      },
      "source": [
        "## Accessing parts of a string\n",
        "\n",
        "You can use indexing to access individual letters or substrings of a string. The index is the number that appears between square brackets at the end of the string."
      ]
    },
    {
      "cell_type": "code",
      "metadata": {
        "id": "B3s4T3ueIXyn",
        "colab": {
          "base_uri": "https://localhost:8080/",
          "height": 35
        },
        "outputId": "aa75cbcd-eada-4aa9-be71-fa2441fb7554"
      },
      "source": [
        "\"rhinoceros\"[3]"
      ],
      "execution_count": null,
      "outputs": [
        {
          "output_type": "execute_result",
          "data": {
            "application/vnd.google.colaboratory.intrinsic+json": {
              "type": "string"
            },
            "text/plain": [
              "'n'"
            ]
          },
          "metadata": {
            "tags": []
          },
          "execution_count": 91
        }
      ]
    },
    {
      "cell_type": "code",
      "metadata": {
        "id": "rfeXnJhoIeak",
        "colab": {
          "base_uri": "https://localhost:8080/",
          "height": 35
        },
        "outputId": "033803fb-2f09-40bb-858c-a02b47d77dc4"
      },
      "source": [
        "\"rhinoceros\"[0]"
      ],
      "execution_count": null,
      "outputs": [
        {
          "output_type": "execute_result",
          "data": {
            "application/vnd.google.colaboratory.intrinsic+json": {
              "type": "string"
            },
            "text/plain": [
              "'r'"
            ]
          },
          "metadata": {
            "tags": []
          },
          "execution_count": 92
        }
      ]
    },
    {
      "cell_type": "markdown",
      "metadata": {
        "id": "hHDUMYXOIhZP"
      },
      "source": [
        "The 4th character in \"rhinoceros\" is an 'n', and the first is 'r'. Note that Python indices start at 0, so `\"rhinoceros\"[0]\"` returns the first character in the string.\n",
        "\n",
        "We can use a pair of indices to carve out a substring from the string - this is called **slicing** the string:"
      ]
    },
    {
      "cell_type": "code",
      "metadata": {
        "id": "Th6A40IEI3kf",
        "colab": {
          "base_uri": "https://localhost:8080/",
          "height": 35
        },
        "outputId": "bc0e10b6-089f-40aa-fd59-0de4eb99ce56"
      },
      "source": [
        "\"rhinoceros\"[2:5]"
      ],
      "execution_count": null,
      "outputs": [
        {
          "output_type": "execute_result",
          "data": {
            "application/vnd.google.colaboratory.intrinsic+json": {
              "type": "string"
            },
            "text/plain": [
              "'ino'"
            ]
          },
          "metadata": {
            "tags": []
          },
          "execution_count": 93
        }
      ]
    },
    {
      "cell_type": "markdown",
      "metadata": {
        "id": "hAEkRaBMI8dm"
      },
      "source": [
        "The slice starts at the third letter (index 2), and ends before the 6th letter.\n",
        "\n",
        "What happens if you try to access a character using an index that is beyond the end of the string? What about with a slice?"
      ]
    },
    {
      "cell_type": "code",
      "metadata": {
        "id": "vR3lP2YUJMlE",
        "colab": {
          "base_uri": "https://localhost:8080/",
          "height": 164
        },
        "outputId": "4947d36d-5caa-4ea3-f9fd-3d16067e682c"
      },
      "source": [
        "\"art\"[3]"
      ],
      "execution_count": null,
      "outputs": [
        {
          "output_type": "error",
          "ename": "IndexError",
          "evalue": "ignored",
          "traceback": [
            "\u001b[0;31m---------------------------------------------------------------------------\u001b[0m",
            "\u001b[0;31mIndexError\u001b[0m                                Traceback (most recent call last)",
            "\u001b[0;32m<ipython-input-94-f9a3478c758b>\u001b[0m in \u001b[0;36m<module>\u001b[0;34m()\u001b[0m\n\u001b[0;32m----> 1\u001b[0;31m \u001b[0;34m\"art\"\u001b[0m\u001b[0;34m[\u001b[0m\u001b[0;36m3\u001b[0m\u001b[0;34m]\u001b[0m\u001b[0;34m\u001b[0m\u001b[0;34m\u001b[0m\u001b[0m\n\u001b[0m",
            "\u001b[0;31mIndexError\u001b[0m: string index out of range"
          ]
        }
      ]
    },
    {
      "cell_type": "code",
      "metadata": {
        "id": "b_P-fQZlJRTv",
        "colab": {
          "base_uri": "https://localhost:8080/",
          "height": 35
        },
        "outputId": "087a3988-00e1-4ae8-b0bf-9b9388d72402"
      },
      "source": [
        "\"art\"[1:4]"
      ],
      "execution_count": null,
      "outputs": [
        {
          "output_type": "execute_result",
          "data": {
            "application/vnd.google.colaboratory.intrinsic+json": {
              "type": "string"
            },
            "text/plain": [
              "'rt'"
            ]
          },
          "metadata": {
            "tags": []
          },
          "execution_count": 95
        }
      ]
    },
    {
      "cell_type": "markdown",
      "metadata": {
        "id": "nJD4aLK9JX4R"
      },
      "source": [
        "Do you think the following are valid indices? Try them out."
      ]
    },
    {
      "cell_type": "code",
      "metadata": {
        "id": "kzlw0RGsJbYU",
        "colab": {
          "base_uri": "https://localhost:8080/",
          "height": 35
        },
        "outputId": "f219da58-7d88-4731-828b-d8956220a1b1"
      },
      "source": [
        "\"art\"[-1]"
      ],
      "execution_count": null,
      "outputs": [
        {
          "output_type": "execute_result",
          "data": {
            "application/vnd.google.colaboratory.intrinsic+json": {
              "type": "string"
            },
            "text/plain": [
              "'t'"
            ]
          },
          "metadata": {
            "tags": []
          },
          "execution_count": 96
        }
      ]
    },
    {
      "cell_type": "code",
      "metadata": {
        "id": "YbS4WGaEJf35",
        "colab": {
          "base_uri": "https://localhost:8080/",
          "height": 35
        },
        "outputId": "553aa77e-4430-4bae-94f3-fa848dfe48ea"
      },
      "source": [
        "\"art\"[-3:-1]"
      ],
      "execution_count": null,
      "outputs": [
        {
          "output_type": "execute_result",
          "data": {
            "application/vnd.google.colaboratory.intrinsic+json": {
              "type": "string"
            },
            "text/plain": [
              "'ar'"
            ]
          },
          "metadata": {
            "tags": []
          },
          "execution_count": 97
        }
      ]
    },
    {
      "cell_type": "markdown",
      "metadata": {
        "id": "uSXYuSxoJmqN"
      },
      "source": [
        "And how about the following slices?"
      ]
    },
    {
      "cell_type": "code",
      "metadata": {
        "id": "W9lCZu8AJptE",
        "colab": {
          "base_uri": "https://localhost:8080/",
          "height": 51
        },
        "outputId": "c48ecc4c-0b51-48ef-b0b5-8a5dd98e4616"
      },
      "source": [
        "print(\"polyphonic\"[2:])\n",
        "print(\"chimera\"[:4])"
      ],
      "execution_count": null,
      "outputs": [
        {
          "output_type": "stream",
          "text": [
            "lyphonic\n",
            "chim\n"
          ],
          "name": "stdout"
        }
      ]
    },
    {
      "cell_type": "markdown",
      "metadata": {
        "id": "M3TRTpzMJvlE"
      },
      "source": [
        "### **ANSWER:**\n",
        "\n",
        "> Describe how slices work, in your own words. Include the cases where there's a number on both sides of the colon (`\"catty\"[1:4]`), only a number before the colon (`\"catty\"[1:]`), and only a number after the colon (`\"catty\"[:4]`)."
      ]
    },
    {
      "cell_type": "markdown",
      "metadata": {
        "id": "xRN_JUpV_VAG"
      },
      "source": [
        "Slices work by indexing a range that you would like to highlight or work with specifically. Since Python begins the range at 0, in order to look at the fourth character in the word you would input 3. In the example of \"catty\"[1:4] this slice would return the characters 'att' since those are the character in the range indicated. \"catty\"[1:] would return all the characters following the second character: 'atty'. \"catty\"[:4] would return the character before the indicated stopping point (the fourth character): 'catt'"
      ]
    },
    {
      "cell_type": "code",
      "metadata": {
        "id": "Nyr5vpNLBKNk",
        "colab": {
          "base_uri": "https://localhost:8080/",
          "height": 68
        },
        "outputId": "3006fc31-a0fe-489a-a4ca-048a12337c1e"
      },
      "source": [
        "print(\"catty\"[1:4])\n",
        "print(\"catty\"[1:])\n",
        "print(\"catty\"[:4])"
      ],
      "execution_count": null,
      "outputs": [
        {
          "output_type": "stream",
          "text": [
            "att\n",
            "atty\n",
            "catt\n"
          ],
          "name": "stdout"
        }
      ]
    },
    {
      "cell_type": "markdown",
      "metadata": {
        "id": "1lW0vlpXZRO8"
      },
      "source": [
        "# 3. Say hello to the Natural Language Toolkit\n",
        "\n",
        "The Natural Language Toolkit (NLTK) is an open-source (free for all to use) set of resources for computational linguistics and natural language processing. Some people use NLTK to do research in CL/NLP, but most of all the NLTK was designed as a teaching and learning resource. The NLTK consists of lots of Python code, organized into various modules and libraries, as well as lots of language-related data. We'll be using the NLTK for many things this semester.\n",
        "\n",
        "A reminder of the link to the NLTK book: https://www.nltk.org/book\n",
        "\n",
        "To begin, we need to import the nltk and download some data. As long as we're working on Colab, we'll need to do these steps every time, because new Colab sessions don't retain the data we've previously downloaded.\n",
        "\n",
        "We'll start by downloading a collection called `book` - these are all the data files and other resources needed to run examples from the NLTK book.\n"
      ]
    },
    {
      "cell_type": "code",
      "metadata": {
        "id": "KfhfQNbVD--B",
        "colab": {
          "base_uri": "https://localhost:8080/",
          "height": 1000
        },
        "outputId": "4f25b954-d4ff-4e6a-84e6-f217424fc610"
      },
      "source": [
        "import nltk    ### this line imports the nltk toolkit for use in our current Colab session\n",
        "nltk.download('book')  ## and here we download the files we want\n",
        "\n",
        "from nltk.book import * ### finally, we'll import the downloaded materials (now available at nltk.book)"
      ],
      "execution_count": null,
      "outputs": [
        {
          "output_type": "stream",
          "text": [
            "[nltk_data] Downloading collection 'book'\n",
            "[nltk_data]    | \n",
            "[nltk_data]    | Downloading package abc to /root/nltk_data...\n",
            "[nltk_data]    |   Unzipping corpora/abc.zip.\n",
            "[nltk_data]    | Downloading package brown to /root/nltk_data...\n",
            "[nltk_data]    |   Unzipping corpora/brown.zip.\n",
            "[nltk_data]    | Downloading package chat80 to /root/nltk_data...\n",
            "[nltk_data]    |   Unzipping corpora/chat80.zip.\n",
            "[nltk_data]    | Downloading package cmudict to /root/nltk_data...\n",
            "[nltk_data]    |   Unzipping corpora/cmudict.zip.\n",
            "[nltk_data]    | Downloading package conll2000 to /root/nltk_data...\n",
            "[nltk_data]    |   Unzipping corpora/conll2000.zip.\n",
            "[nltk_data]    | Downloading package conll2002 to /root/nltk_data...\n",
            "[nltk_data]    |   Unzipping corpora/conll2002.zip.\n",
            "[nltk_data]    | Downloading package dependency_treebank to\n",
            "[nltk_data]    |     /root/nltk_data...\n",
            "[nltk_data]    |   Unzipping corpora/dependency_treebank.zip.\n",
            "[nltk_data]    | Downloading package genesis to /root/nltk_data...\n",
            "[nltk_data]    |   Unzipping corpora/genesis.zip.\n",
            "[nltk_data]    | Downloading package gutenberg to /root/nltk_data...\n",
            "[nltk_data]    |   Unzipping corpora/gutenberg.zip.\n",
            "[nltk_data]    | Downloading package ieer to /root/nltk_data...\n",
            "[nltk_data]    |   Unzipping corpora/ieer.zip.\n",
            "[nltk_data]    | Downloading package inaugural to /root/nltk_data...\n",
            "[nltk_data]    |   Unzipping corpora/inaugural.zip.\n",
            "[nltk_data]    | Downloading package movie_reviews to\n",
            "[nltk_data]    |     /root/nltk_data...\n",
            "[nltk_data]    |   Unzipping corpora/movie_reviews.zip.\n",
            "[nltk_data]    | Downloading package nps_chat to /root/nltk_data...\n",
            "[nltk_data]    |   Unzipping corpora/nps_chat.zip.\n",
            "[nltk_data]    | Downloading package names to /root/nltk_data...\n",
            "[nltk_data]    |   Unzipping corpora/names.zip.\n",
            "[nltk_data]    | Downloading package ppattach to /root/nltk_data...\n",
            "[nltk_data]    |   Unzipping corpora/ppattach.zip.\n",
            "[nltk_data]    | Downloading package reuters to /root/nltk_data...\n",
            "[nltk_data]    | Downloading package senseval to /root/nltk_data...\n",
            "[nltk_data]    |   Unzipping corpora/senseval.zip.\n",
            "[nltk_data]    | Downloading package state_union to /root/nltk_data...\n",
            "[nltk_data]    |   Unzipping corpora/state_union.zip.\n",
            "[nltk_data]    | Downloading package stopwords to /root/nltk_data...\n",
            "[nltk_data]    |   Unzipping corpora/stopwords.zip.\n",
            "[nltk_data]    | Downloading package swadesh to /root/nltk_data...\n",
            "[nltk_data]    |   Unzipping corpora/swadesh.zip.\n",
            "[nltk_data]    | Downloading package timit to /root/nltk_data...\n",
            "[nltk_data]    |   Unzipping corpora/timit.zip.\n",
            "[nltk_data]    | Downloading package treebank to /root/nltk_data...\n",
            "[nltk_data]    |   Unzipping corpora/treebank.zip.\n",
            "[nltk_data]    | Downloading package toolbox to /root/nltk_data...\n",
            "[nltk_data]    |   Unzipping corpora/toolbox.zip.\n",
            "[nltk_data]    | Downloading package udhr to /root/nltk_data...\n",
            "[nltk_data]    |   Unzipping corpora/udhr.zip.\n",
            "[nltk_data]    | Downloading package udhr2 to /root/nltk_data...\n",
            "[nltk_data]    |   Unzipping corpora/udhr2.zip.\n",
            "[nltk_data]    | Downloading package unicode_samples to\n",
            "[nltk_data]    |     /root/nltk_data...\n",
            "[nltk_data]    |   Unzipping corpora/unicode_samples.zip.\n",
            "[nltk_data]    | Downloading package webtext to /root/nltk_data...\n",
            "[nltk_data]    |   Unzipping corpora/webtext.zip.\n",
            "[nltk_data]    | Downloading package wordnet to /root/nltk_data...\n",
            "[nltk_data]    |   Unzipping corpora/wordnet.zip.\n",
            "[nltk_data]    | Downloading package wordnet_ic to /root/nltk_data...\n",
            "[nltk_data]    |   Unzipping corpora/wordnet_ic.zip.\n",
            "[nltk_data]    | Downloading package words to /root/nltk_data...\n",
            "[nltk_data]    |   Unzipping corpora/words.zip.\n",
            "[nltk_data]    | Downloading package maxent_treebank_pos_tagger to\n",
            "[nltk_data]    |     /root/nltk_data...\n",
            "[nltk_data]    |   Unzipping taggers/maxent_treebank_pos_tagger.zip.\n",
            "[nltk_data]    | Downloading package maxent_ne_chunker to\n",
            "[nltk_data]    |     /root/nltk_data...\n",
            "[nltk_data]    |   Unzipping chunkers/maxent_ne_chunker.zip.\n",
            "[nltk_data]    | Downloading package universal_tagset to\n",
            "[nltk_data]    |     /root/nltk_data...\n",
            "[nltk_data]    |   Unzipping taggers/universal_tagset.zip.\n",
            "[nltk_data]    | Downloading package punkt to /root/nltk_data...\n",
            "[nltk_data]    |   Unzipping tokenizers/punkt.zip.\n",
            "[nltk_data]    | Downloading package book_grammars to\n",
            "[nltk_data]    |     /root/nltk_data...\n",
            "[nltk_data]    |   Unzipping grammars/book_grammars.zip.\n",
            "[nltk_data]    | Downloading package city_database to\n",
            "[nltk_data]    |     /root/nltk_data...\n",
            "[nltk_data]    |   Unzipping corpora/city_database.zip.\n",
            "[nltk_data]    | Downloading package tagsets to /root/nltk_data...\n",
            "[nltk_data]    |   Unzipping help/tagsets.zip.\n",
            "[nltk_data]    | Downloading package panlex_swadesh to\n",
            "[nltk_data]    |     /root/nltk_data...\n",
            "[nltk_data]    | Downloading package averaged_perceptron_tagger to\n",
            "[nltk_data]    |     /root/nltk_data...\n",
            "[nltk_data]    |   Unzipping taggers/averaged_perceptron_tagger.zip.\n",
            "[nltk_data]    | \n",
            "[nltk_data]  Done downloading collection book\n",
            "*** Introductory Examples for the NLTK Book ***\n",
            "Loading text1, ..., text9 and sent1, ..., sent9\n",
            "Type the name of the text or sentence to view it.\n",
            "Type: 'texts()' or 'sents()' to list the materials.\n",
            "text1: Moby Dick by Herman Melville 1851\n",
            "text2: Sense and Sensibility by Jane Austen 1811\n",
            "text3: The Book of Genesis\n",
            "text4: Inaugural Address Corpus\n",
            "text5: Chat Corpus\n",
            "text6: Monty Python and the Holy Grail\n",
            "text7: Wall Street Journal\n",
            "text8: Personals Corpus\n",
            "text9: The Man Who Was Thursday by G . K . Chesterton 1908\n"
          ],
          "name": "stdout"
        }
      ]
    },
    {
      "cell_type": "markdown",
      "metadata": {
        "id": "kycXoG9gEXKt"
      },
      "source": [
        "NLTK comes with a number of texts pre-loaded, so that we can try out different methods for analyzing texts on some different kinds of data. The `texts()` command shows us the 9 pre-loaded texts. Each one has a name (`text1`, `text2`, and so on). To access one text, we simply use its name."
      ]
    },
    {
      "cell_type": "code",
      "metadata": {
        "id": "51RB2dfwEpmX",
        "colab": {
          "base_uri": "https://localhost:8080/",
          "height": 170
        },
        "outputId": "cc49e796-affe-4e7d-eab6-8662300a5ad8"
      },
      "source": [
        "texts()"
      ],
      "execution_count": null,
      "outputs": [
        {
          "output_type": "stream",
          "text": [
            "text1: Moby Dick by Herman Melville 1851\n",
            "text2: Sense and Sensibility by Jane Austen 1811\n",
            "text3: The Book of Genesis\n",
            "text4: Inaugural Address Corpus\n",
            "text5: Chat Corpus\n",
            "text6: Monty Python and the Holy Grail\n",
            "text7: Wall Street Journal\n",
            "text8: Personals Corpus\n",
            "text9: The Man Who Was Thursday by G . K . Chesterton 1908\n"
          ],
          "name": "stdout"
        }
      ]
    },
    {
      "cell_type": "markdown",
      "metadata": {
        "id": "0wBk8afGEqc1"
      },
      "source": [
        "The `sents()` command displays the first sentence from each of the 9 pre-loaded texts. Each of these first sentences also has a name (`sent1`, `sent2`, etc.)."
      ]
    },
    {
      "cell_type": "code",
      "metadata": {
        "id": "PJu620H3E0Hy",
        "colab": {
          "base_uri": "https://localhost:8080/",
          "height": 170
        },
        "outputId": "8a2d419d-e2c5-4cab-8651-3c978836d392"
      },
      "source": [
        "sents()"
      ],
      "execution_count": null,
      "outputs": [
        {
          "output_type": "stream",
          "text": [
            "sent1: Call me Ishmael .\n",
            "sent2: The family of Dashwood had long been settled in Sussex .\n",
            "sent3: In the beginning God created the heaven and the earth .\n",
            "sent4: Fellow - Citizens of the Senate and of the House of Representatives :\n",
            "sent5: I have a problem with people PMing me to lol JOIN\n",
            "sent6: SCENE 1 : [ wind ] [ clop clop clop ] KING ARTHUR : Whoa there !\n",
            "sent7: Pierre Vinken , 61 years old , will join the board as a nonexecutive director Nov. 29 .\n",
            "sent8: 25 SEXY MALE , seeks attrac older single lady , for discreet encounters .\n",
            "sent9: THE suburb of Saffron Park lay on the sunset side of London , as red and ragged as a cloud of sunset .\n"
          ],
          "name": "stdout"
        }
      ]
    },
    {
      "cell_type": "markdown",
      "metadata": {
        "id": "eqe14G5NE7EX"
      },
      "source": [
        "Now try out some additional commands for investigating these texts. NOTE: some of these commands are part of nltk, which means they are not available as part of python's built-in methods.\n",
        "\n",
        "Some things to try (start a new code block, and pick texts that look interesting to you):\n",
        "* `text1[:100]` to display the first 100 words of a text - you can change which text and also how many words are displayed\n",
        "* the `count()` method lets us see how often a particular word appears in a particular text (e.g. `text1.count(\"whale\")` and `text4.count(\"whale\")`)\n",
        "* a **concordance** is a way of viewing all occurrences of a particular word from some text that allows us to compare the contexts - nltk gives us a concordance command, e.g. `text1.concordance(\"whale\")`\n"
      ]
    },
    {
      "cell_type": "markdown",
      "metadata": {
        "id": "Hm9hvKcAF4N-"
      },
      "source": [
        "### **ANSWER:**\n",
        "\n",
        "> Try the commands above out on a number of different texts. What can you observe about the properties of individual texts? What can you observe about the properties of different words?"
      ]
    },
    {
      "cell_type": "code",
      "metadata": {
        "id": "Ivrho7nMCjYU",
        "colab": {
          "base_uri": "https://localhost:8080/",
          "height": 751
        },
        "outputId": "54ca95d9-ae31-402c-d50a-8b96661838c7"
      },
      "source": [
        "print(text2[:100])\n",
        "print(text2.count(\"John\"))\n",
        "print(text2.concordance(\"beautiful\"))\n",
        "#next text\n",
        "text4[:50]\n",
        "text4.count(\"citizens\")\n",
        "text4.concordance(\"american\")"
      ],
      "execution_count": null,
      "outputs": [
        {
          "output_type": "stream",
          "text": [
            "['[', 'Sense', 'and', 'Sensibility', 'by', 'Jane', 'Austen', '1811', ']', 'CHAPTER', '1', 'The', 'family', 'of', 'Dashwood', 'had', 'long', 'been', 'settled', 'in', 'Sussex', '.', 'Their', 'estate', 'was', 'large', ',', 'and', 'their', 'residence', 'was', 'at', 'Norland', 'Park', ',', 'in', 'the', 'centre', 'of', 'their', 'property', ',', 'where', ',', 'for', 'many', 'generations', ',', 'they', 'had', 'lived', 'in', 'so', 'respectable', 'a', 'manner', 'as', 'to', 'engage', 'the', 'general', 'good', 'opinion', 'of', 'their', 'surrounding', 'acquaintance', '.', 'The', 'late', 'owner', 'of', 'this', 'estate', 'was', 'a', 'single', 'man', ',', 'who', 'lived', 'to', 'a', 'very', 'advanced', 'age', ',', 'and', 'who', 'for', 'many', 'years', 'of', 'his', 'life', ',', 'had', 'a', 'constant', 'companion']\n",
            "163\n",
            "Displaying 12 of 12 matches:\n",
            "ardly keep my seat . To hear those beautiful lines which have frequently almost\n",
            "ole country about them abounded in beautiful walks . The high downs which invit\n",
            " cant of praise , she was called a beautiful girl , truth was less violently ou\n",
            "grounds were declared to be highly beautiful , and Sir John , who was particula\n",
            " - green , behind the house , to a beautiful hanging wood , and on the other yo\n",
            "deur , is our cottage .\" \" It is a beautiful country ,\" he replied ; \" but thes\n",
            "o examine them . \" Oh ! dear , how beautiful these are ! Well ! how delightful \n",
            "rd at Exeter that you are the most beautiful creatures in the world ; and I hav\n",
            "he was . \" Norland is a prodigious beautiful place , is not it ?\" added Miss St\n",
            " whom they declared to be the most beautiful , elegant , accomplished , and agr\n",
            "the particulars , was so fine , so beautiful a Sunday as to draw many to Kensin\n",
            "ing of agony it was !-- Marianne , beautiful as an angel on one side , calling \n",
            "None\n",
            "Displaying 25 of 163 matches:\n",
            "ment entrusted to the hands of the American people . Besides the ordinary obje\n",
            "e He has been pleased to favor the American people with opportunities for deli\n",
            "nment may not be the choice of the American people , but of foreign nations . \n",
            "or , spirit , and resources of the American people , on which I have so often \n",
            "he duty and interest , of the same American people pledged to support the Cons\n",
            "e the pleasure and the pride of an American to ask , What farmer , what mechan\n",
            " sufferings of that portion of the American people have found their way to eve\n",
            "nent advantages attending it . The American people have encountered together g\n",
            " Fellow citizens , the will of the American people , expressed through their u\n",
            "e confidence and affections of the American people . Finally , it is my most f\n",
            " exemplified in the history of the American States . Occasionally , it is true\n",
            "ights possessed by each individual American citizen which in his compact with \n",
            "acknowledged property of all , the American citizen derives from no charter gr\n",
            " It is in this District only where American citizens are to be found who under\n",
            "id men in England spoke of \" their American subjects .\" Are there , indeed , c\n",
            "he people of the States , but free American citizens . Being in the latter con\n",
            "rrect idea of his own rights as an American citizen -- the grant to Congress o\n",
            "be the corner stone upon which our American political architects have reared t\n",
            " and happy people . Elected by the American people to the highest office known\n",
            "al attention of the Executive . As American freemen we can not but sympathize \n",
            "ly seek the protection of our flag American citizenship is an inviolable panop\n",
            "olable panoply for the security of American rights . And in this connection it\n",
            "h still animates the hearts of the American people , let me earnestly ask thei\n",
            "ople , under the protection of the American flag , have enjoyed civil and reli\n",
            "e unless my rightful masters , the American people , shall withhold the requis\n"
          ],
          "name": "stdout"
        }
      ]
    },
    {
      "cell_type": "markdown",
      "metadata": {
        "id": "qVL-qZnZDtlj"
      },
      "source": [
        "These commands are interesting to play around with, especially with diverse texts and genres. Due to the distinct genres, each command returns something distinct to that genre - a fiction novel would presumably return more descriptive adjects and include proper nouns (character names). While the inaugural address returns properties distinctive to its' genre. "
      ]
    },
    {
      "cell_type": "markdown",
      "metadata": {
        "id": "33XX_EajGvn2"
      },
      "source": [
        "Next, read sections 1.2 and 1.3 in chapter 1 of the NLTK book, here: http://www.nltk.org/book/ch01.html"
      ]
    },
    {
      "cell_type": "markdown",
      "metadata": {
        "id": "dsGUvE7xG5UD"
      },
      "source": [
        "### **ANSWER:**\n",
        "\n",
        "> Create a dispersion plot that looks at the locations in the text of at least 5 different words, for a text of your choice and a set of words of your choice. Show the plot below, and describe at least two interesting things from your results."
      ]
    },
    {
      "cell_type": "code",
      "metadata": {
        "id": "OeY0J_TIFB7n",
        "colab": {
          "base_uri": "https://localhost:8080/",
          "height": 295
        },
        "outputId": "16d8bfe8-3d8d-4bbf-a7d3-be22f05ae63f"
      },
      "source": [
        "text7.dispersion_plot([\"board\", \"director\", \"financial\", \"jobs\", \"employment\"])"
      ],
      "execution_count": null,
      "outputs": [
        {
          "output_type": "display_data",
          "data": {
            "image/png": "[encoded data removed]",
            "text/plain": [
              "<Figure size 432x288 with 1 Axes>"
            ]
          },
          "metadata": {
            "tags": [],
            "needs_background": "light"
          }
        }
      ]
    },
    {
      "cell_type": "markdown",
      "metadata": {
        "id": "jfD9e8SYFwsA"
      },
      "source": [
        "The dispersion plot command is really fun to play around with and provides a visual aid to the count command. Since this a Journal typically aimed towards the financial district, I searched for keywords I thought would appear often. It's not surprising to me that the word \"financial\" seems to be the most frequent dispersed word throughout the text; however, I did expect to see a bigger presence from both \"jobs\" and \"employment\"."
      ]
    },
    {
      "cell_type": "markdown",
      "metadata": {
        "id": "Qi_5uYk_ZO45"
      },
      "source": [
        "# 4. Introducing lists"
      ]
    },
    {
      "cell_type": "markdown",
      "metadata": {
        "id": "oRB2cPiJZXkC"
      },
      "source": [
        "A list is a sequence of items, like a shopping list. Every list gets a name - in other words, to store a list so that you can use it again later, assign it to a variable. In Python, lists are written with straight brackets around them, and with commas between items."
      ]
    },
    {
      "cell_type": "code",
      "metadata": {
        "id": "aINPWVLMKb-8",
        "colab": {
          "base_uri": "https://localhost:8080/",
          "height": 34
        },
        "outputId": "c86c98c9-2837-4825-c8ef-61e7e1c587de"
      },
      "source": [
        "shopping_list = [\"oat milk\", \"peaches\", \"dark chocolate\"]\n",
        "len(shopping_list)"
      ],
      "execution_count": null,
      "outputs": [
        {
          "output_type": "execute_result",
          "data": {
            "text/plain": [
              "3"
            ]
          },
          "metadata": {
            "tags": []
          },
          "execution_count": 116
        }
      ]
    },
    {
      "cell_type": "markdown",
      "metadata": {
        "id": "pQvmVpQOKpVp"
      },
      "source": [
        "You can make lists with only one item - like the list `oneThing` below - or even with no items - like the list `empty`:"
      ]
    },
    {
      "cell_type": "code",
      "metadata": {
        "id": "MOgmxaqIK0CV",
        "colab": {
          "base_uri": "https://localhost:8080/",
          "height": 34
        },
        "outputId": "c218299c-e629-4322-8998-94a7fc71c97c"
      },
      "source": [
        "oneThing = [ 123 ]\n",
        "len(oneThing)"
      ],
      "execution_count": null,
      "outputs": [
        {
          "output_type": "execute_result",
          "data": {
            "text/plain": [
              "1"
            ]
          },
          "metadata": {
            "tags": []
          },
          "execution_count": 117
        }
      ]
    },
    {
      "cell_type": "code",
      "metadata": {
        "id": "4_fAiF6fK3U5",
        "colab": {
          "base_uri": "https://localhost:8080/",
          "height": 34
        },
        "outputId": "8735ef45-2d0c-493e-ea28-cbc92f52e885"
      },
      "source": [
        "type(oneThing)"
      ],
      "execution_count": null,
      "outputs": [
        {
          "output_type": "execute_result",
          "data": {
            "text/plain": [
              "list"
            ]
          },
          "metadata": {
            "tags": []
          },
          "execution_count": 118
        }
      ]
    },
    {
      "cell_type": "code",
      "metadata": {
        "id": "WpqYntiuK6Ji",
        "colab": {
          "base_uri": "https://localhost:8080/",
          "height": 34
        },
        "outputId": "5df2fa72-9708-40b2-87d0-d15048ac914d"
      },
      "source": [
        "empty = [ ]\n",
        "len(empty)"
      ],
      "execution_count": null,
      "outputs": [
        {
          "output_type": "execute_result",
          "data": {
            "text/plain": [
              "0"
            ]
          },
          "metadata": {
            "tags": []
          },
          "execution_count": 119
        }
      ]
    },
    {
      "cell_type": "markdown",
      "metadata": {
        "id": "bqKgbAF6K8o1"
      },
      "source": [
        "NOTE: It doesn't matter whether you write your list like `[123]` or like `[ 123 ]`. They are the same to Python. Some people like to add spaces for better readability, and others like to keep their lists compact, without spaces.\n",
        "\n",
        "For more about \"the zen of Python\" read pages 34-36 in chapter 2 of Python Crash Course. Find your zen.\n",
        "\n",
        "You can even have a nested list - a list whose items are also lists:"
      ]
    },
    {
      "cell_type": "code",
      "metadata": {
        "id": "MYF60nYDLiuO"
      },
      "source": [
        "nested = [ [1], [\"a\", \"b\"], [] ]"
      ],
      "execution_count": null,
      "outputs": []
    },
    {
      "cell_type": "markdown",
      "metadata": {
        "id": "1BV7OrT4LnY1"
      },
      "source": [
        "### **ANSWER:**\n",
        "\n",
        "> What do you think is the output for `len(nested)`?"
      ]
    },
    {
      "cell_type": "markdown",
      "metadata": {
        "id": "aJ0y24qGG1Xt"
      },
      "source": [
        "I think the length of nested will be 3\n",
        "\n"
      ]
    },
    {
      "cell_type": "code",
      "metadata": {
        "id": "jo9WXeSDHCLu",
        "colab": {
          "base_uri": "https://localhost:8080/",
          "height": 34
        },
        "outputId": "b33446fe-01e5-475e-aaeb-19b685bf11a4"
      },
      "source": [
        "len(nested)"
      ],
      "execution_count": null,
      "outputs": [
        {
          "output_type": "execute_result",
          "data": {
            "text/plain": [
              "3"
            ]
          },
          "metadata": {
            "tags": []
          },
          "execution_count": 126
        }
      ]
    },
    {
      "cell_type": "markdown",
      "metadata": {
        "id": "yJKWZrPpLtJU"
      },
      "source": [
        "### Lists and strings\n",
        "\n",
        "Both strings and lists are sequences, and so there are many operations in Python that work for lists like they do for strings. Here are some of the most important ones:\n",
        "* `len()` returns the length of a sequence\n",
        "* indexes and slices access subparts of a sequence\n",
        "\n",
        "Here are examples of using indexes and slices with lists."
      ]
    },
    {
      "cell_type": "code",
      "metadata": {
        "id": "q-hwHHilMKGi",
        "colab": {
          "base_uri": "https://localhost:8080/",
          "height": 35
        },
        "outputId": "7937f45f-c8d2-489b-8d84-5734ed2bb461"
      },
      "source": [
        "mylist = [\"kryptonite\", \"stalactite\", \"meteorite\"]\n",
        "mylist[0]"
      ],
      "execution_count": null,
      "outputs": [
        {
          "output_type": "execute_result",
          "data": {
            "application/vnd.google.colaboratory.intrinsic+json": {
              "type": "string"
            },
            "text/plain": [
              "'kryptonite'"
            ]
          },
          "metadata": {
            "tags": []
          },
          "execution_count": 127
        }
      ]
    },
    {
      "cell_type": "code",
      "metadata": {
        "id": "tgA6PeEbMPzy",
        "colab": {
          "base_uri": "https://localhost:8080/",
          "height": 68
        },
        "outputId": "3a0b89b4-b9b3-45f3-db79-45587ec1fe8e"
      },
      "source": [
        "print(mylist[1:3])\n",
        "print(mylist[1:2])\n",
        "print(mylist[2:])"
      ],
      "execution_count": null,
      "outputs": [
        {
          "output_type": "stream",
          "text": [
            "['stalactite', 'meteorite']\n",
            "['stalactite']\n",
            "['meteorite']\n"
          ],
          "name": "stdout"
        }
      ]
    },
    {
      "cell_type": "markdown",
      "metadata": {
        "id": "NFLVq7xNMs8O"
      },
      "source": [
        "Python Crash Course has an excellent explanation of lists - how to create them, how to add to them, how to remove things from them. Read pages 37-46 in Chapter 3 of Python Crash Course, then come back to do the following exercises (create a new code block for each subquestion):"
      ]
    },
    {
      "cell_type": "markdown",
      "metadata": {
        "id": "u_v37YIAM6WG"
      },
      "source": [
        "### **ANSWER:**\n",
        "\n",
        "> a. If you could invite anyone, living or deceased, to dinner, who would you invite? Make a list that includes at least three people you'd like to invite to dinner. Then use your list to print a message to each person, inviting them to dinner.\n",
        "\n",
        "> b. You just found out that one of your guests can't make it to dinner. Modify your list, replacing the name of the person who can't make it with the name of the new person you're inviting.\n",
        "\n",
        "> c. Oh boy, you just found a bigger dining table! You can invite three more people. Use `insert()` to add one new guest at the beginning of the list and one at the middle of the list. Use `append()` to add one new guest at the end of the list. Print a new set of invitation messages."
      ]
    },
    {
      "cell_type": "code",
      "metadata": {
        "id": "w3zDDvhbcFPr",
        "colab": {
          "base_uri": "https://localhost:8080/",
          "height": 68
        },
        "outputId": "fe9054f9-7ec6-460a-b497-c5cd9f003843"
      },
      "source": [
        "guest_list = [\"bruce wayne\", \"harry potter\", \"steve rogers\"]\n",
        "batman = guest_list[0].title()\n",
        "harry = guest_list[1].title()\n",
        "capt = guest_list[2].title()\n",
        "invitation = \" please join us this Saturday for dinner at 7PM!\"\n",
        "print(batman + invitation)\n",
        "print(harry + invitation)\n",
        "print(capt + invitation)"
      ],
      "execution_count": null,
      "outputs": [
        {
          "output_type": "stream",
          "text": [
            "Bruce Wayne please join us this Saturday for dinner at 7PM!\n",
            "Harry Potter please join us this Saturday for dinner at 7PM!\n",
            "Steve Rogers please join us this Saturday for dinner at 7PM!\n"
          ],
          "name": "stdout"
        }
      ]
    },
    {
      "cell_type": "code",
      "metadata": {
        "id": "1gOHpafTezeZ",
        "colab": {
          "base_uri": "https://localhost:8080/",
          "height": 85
        },
        "outputId": "fefd9076-1041-447d-a203-a8652724666d"
      },
      "source": [
        "#Batman can't make it to dinner\n",
        "print(\"Sorry, \" + batman + \" can't make it to dinner\")\n",
        "del(guest_list[0])\n",
        "guest_list.insert(0, \"peter parker\")\n",
        "sm = guest_list[0].title()\n",
        "print(sm + invitation)\n",
        "print(harry + invitation)\n",
        "print(capt + invitation)"
      ],
      "execution_count": null,
      "outputs": [
        {
          "output_type": "stream",
          "text": [
            "Sorry, Bruce Wayne can't make it to dinner\n",
            "Peter Parker please join us this Saturday for dinner at 7PM!\n",
            "Harry Potter please join us this Saturday for dinner at 7PM!\n",
            "Steve Rogers please join us this Saturday for dinner at 7PM!\n"
          ],
          "name": "stdout"
        }
      ]
    },
    {
      "cell_type": "code",
      "metadata": {
        "id": "Viy4NEKVfL6Z",
        "colab": {
          "base_uri": "https://localhost:8080/",
          "height": 156
        },
        "outputId": "b4c89d37-d747-46ea-b337-4959136dacd8"
      },
      "source": [
        "#bigger table\n",
        "guest_list.insert(0, \"hermione granger\")\n",
        "guest_list.insert(2, \"carol danvers\")\n",
        "guest_list.append(\"diana prince\")\n",
        "hg = guest_list[0].title()\n",
        "cm = guest_list[2].title()\n",
        "ww = guest_list[-1].title()\n",
        "print(hg + invitation)\n",
        "print(sm + invitation)\n",
        "print(cm + invitation)\n",
        "print(harry + invitation)\n",
        "print(capt + invitation)\n",
        "print(ww + invitation)\n",
        "print(guest_list)\n",
        "#not sure why the guest list is messing up like that..."
      ],
      "execution_count": null,
      "outputs": [
        {
          "output_type": "stream",
          "text": [
            "Hermione Granger please join us this Saturday for dinner at 7PM!\n",
            "Peter Parker please join us this Saturday for dinner at 7PM!\n",
            "Carol Danvers please join us this Saturday for dinner at 7PM!\n",
            "Harry Potter please join us this Saturday for dinner at 7PM!\n",
            "Steve Rogers please join us this Saturday for dinner at 7PM!\n",
            "Diana Prince please join us this Saturday for dinner at 7PM!\n",
            "['hermione granger', 'hermione granger', 'carol danvers', 'hermione granger', 'carol danvers', 'hermione granger', 'carol danvers', 'peter parker', 'carol danvers', 'steve rogers', 'diana prince', 'diana prince', 'diana prince', 'diana prince']\n"
          ],
          "name": "stdout"
        }
      ]
    },
    {
      "cell_type": "markdown",
      "metadata": {
        "id": "hFo9CbRpZnP9"
      },
      "source": [
        "# 5. Using lists to look at data in the NLTK\n",
        "\n",
        "## Using the built-in beginner texts\n",
        "\n",
        "You've now learned about the python data types of strings and lists - let's bring things together by looking at how we can look at data from the NLTK using strings and lists.\n",
        "\n",
        "Read section 2 (2.1-2.4) of Chapter 1 in the NLTK book: http://www.nltk.org/book/ch01.html\n",
        "\n",
        "### **ANSWER:**\n",
        "\n",
        "> a. Make a list of any concepts or code bits from Chapter 1, Section 2 that are unfamiliar to you.\n",
        "\n",
        "> b. We have seen how to represent a sentence as a list of words, where each word is a sequence of characters. What does `sent1[2][2]` do? Why? Experiment with other index values.\n",
        "\n",
        "> c. The first sentence of `text3` is provided to you in the variable `sent3`. The index of *the* in `sent3` is `1`, because `sent3[1]` gives us 'the'. What are the indexes of the two other occurrences of this word in `sent3`?\n",
        "\n",
        "## Using the Brown news corpus\n",
        "\n",
        "The Brown Corpus was the first million-word electronic corpus of English, created in 1961 at Brown University. This corpus contains text from 500 sources, and the sources have been categorized by genre, such as news, editorial, and so on. For a complete list of the genres, see http://icame.uib.no/brown/bcm-los.html.\n",
        "\n"
      ]
    },
    {
      "cell_type": "markdown",
      "metadata": {
        "id": "bkshPcTfgqLo"
      },
      "source": [
        "A. I think this lab did a great job covering all concepts in Chapter 1\n",
        "\n",
        "B. sent1[2][2] returns the character 'h' because it is the 2 character in the 2 word.\n",
        "\n",
        "C. The indexes of the other two occurences of \"the\" are sent3[5] and sent3[8]"
      ]
    },
    {
      "cell_type": "code",
      "metadata": {
        "id": "1eYOPq6Mg-Hh",
        "colab": {
          "base_uri": "https://localhost:8080/",
          "height": 85
        },
        "outputId": "622cc62f-0b8f-4c74-ea69-62241d647b28"
      },
      "source": [
        "print(sent1[2][2])\n",
        "print(sent1)\n",
        "print(sent3)\n",
        "print(sent3[8])"
      ],
      "execution_count": null,
      "outputs": [
        {
          "output_type": "stream",
          "text": [
            "h\n",
            "['Call', 'me', 'Ishmael', '.']\n",
            "['In', 'the', 'beginning', 'God', 'created', 'the', 'heaven', 'and', 'the', 'earth', '.']\n",
            "the\n"
          ],
          "name": "stdout"
        }
      ]
    },
    {
      "cell_type": "code",
      "metadata": {
        "id": "picBSzAORsYR",
        "colab": {
          "base_uri": "https://localhost:8080/",
          "height": 272
        },
        "outputId": "9d0f33f1-58b5-4a39-c6e3-5c4ee9943909"
      },
      "source": [
        "### import the Brown corpus\n",
        "from nltk.corpus import brown \n",
        "\n",
        "### get a list of all categories (genres)\n",
        "brown.categories()"
      ],
      "execution_count": null,
      "outputs": [
        {
          "output_type": "execute_result",
          "data": {
            "text/plain": [
              "['adventure',\n",
              " 'belles_lettres',\n",
              " 'editorial',\n",
              " 'fiction',\n",
              " 'government',\n",
              " 'hobbies',\n",
              " 'humor',\n",
              " 'learned',\n",
              " 'lore',\n",
              " 'mystery',\n",
              " 'news',\n",
              " 'religion',\n",
              " 'reviews',\n",
              " 'romance',\n",
              " 'science_fiction']"
            ]
          },
          "metadata": {
            "tags": []
          },
          "execution_count": 259
        }
      ]
    },
    {
      "cell_type": "code",
      "metadata": {
        "id": "W9z86fZeSCSz",
        "colab": {
          "base_uri": "https://localhost:8080/",
          "height": 34
        },
        "outputId": "6576678a-6f7c-4d2e-eb2e-da7821954eb7"
      },
      "source": [
        "### get a list of all the words from the texts in the news category\n",
        "news_text = brown.words(categories=\"news\")\n",
        "print(len(news_text))"
      ],
      "execution_count": null,
      "outputs": [
        {
          "output_type": "stream",
          "text": [
            "100554\n"
          ],
          "name": "stdout"
        }
      ]
    },
    {
      "cell_type": "code",
      "metadata": {
        "id": "oLcIrD2hSNRa",
        "colab": {
          "base_uri": "https://localhost:8080/",
          "height": 34
        },
        "outputId": "540a6b32-3769-48b6-aef8-fc87bfbf29f0"
      },
      "source": [
        "### display the first 100 words of the list\n",
        "news_text[:100]"
      ],
      "execution_count": null,
      "outputs": [
        {
          "output_type": "execute_result",
          "data": {
            "text/plain": [
              "['The', 'Fulton', 'County', 'Grand', 'Jury', 'said', ...]"
            ]
          },
          "metadata": {
            "tags": []
          },
          "execution_count": 261
        }
      ]
    },
    {
      "cell_type": "code",
      "metadata": {
        "id": "tKvcECMvSQ5t",
        "colab": {
          "base_uri": "https://localhost:8080/",
          "height": 68
        },
        "outputId": "94360923-e6bf-4aed-ab45-ddc0ed7e9bdb"
      },
      "source": [
        "### display counts of some selected words\n",
        "print(news_text.count(\"the\"))\n",
        "print(news_text.count(\"said\"))\n",
        "print(news_text.count(\"say\"))\n"
      ],
      "execution_count": null,
      "outputs": [
        {
          "output_type": "stream",
          "text": [
            "5580\n",
            "402\n",
            "23\n"
          ],
          "name": "stdout"
        }
      ]
    },
    {
      "cell_type": "markdown",
      "metadata": {
        "id": "peGoij94Sxp6"
      },
      "source": [
        "### **ANSWER:**\n",
        "\n",
        "> Choose ten words of interest and see how often they occur in the texts from the Brown news corpus. Keep in mind that this collection was put together in the late 1950s/early 1960s. Next week we'll compare these counts to counts of the same words in a more modern news corpus."
      ]
    },
    {
      "cell_type": "code",
      "metadata": {
        "id": "adTV88c5iLeL",
        "colab": {
          "base_uri": "https://localhost:8080/",
          "height": 187
        },
        "outputId": "06e878e6-3696-4353-c47c-ef0366f62ee9"
      },
      "source": [
        "humor_text = brown.words(categories=\"humor\")\n",
        "print(humor_text.count(\"respond\"))\n",
        "print(humor_text.count(\"laugh\"))\n",
        "print(humor_text.count(\"hello\"))\n",
        "print(humor_text.count(\"they\"))\n",
        "print(humor_text.count(\"gave\"))\n",
        "print(humor_text.count(\"that\"))\n",
        "print(humor_text.count(\"not\"))\n",
        "print(humor_text.count(\"like\"))\n",
        "print(humor_text.count(\"smile\"))\n",
        "print(humor_text.count(\"did\"))"
      ],
      "execution_count": null,
      "outputs": [
        {
          "output_type": "stream",
          "text": [
            "0\n",
            "2\n",
            "1\n",
            "70\n",
            "5\n",
            "241\n",
            "77\n",
            "34\n",
            "4\n",
            "23\n"
          ],
          "name": "stdout"
        }
      ]
    },
    {
      "cell_type": "markdown",
      "metadata": {
        "id": "sKkgSYpgTNdl"
      },
      "source": [
        "### **BONUS QUESTION:**\n",
        "\n",
        "Choose a word in the English language.\n",
        "* If your first name begins with A-E, choose a noun.\n",
        "* F-J, verb.\n",
        "* K-O, adjective.\n",
        "* P-T, adverb.\n",
        "* U-Z, preposition.\n",
        "\n",
        "Find out which text (`text1-text9`) contains that word most often.\n",
        "\n",
        "When you're finished, post your word and the winning text on a new Canvas discussion board (check to see whether one exists already, if not, create a new discussion topic called something like \"Lab 2 Bonus Question\"). \n",
        "\n",
        "Feel free to repeat the process for other words too!"
      ]
    },
    {
      "cell_type": "code",
      "metadata": {
        "id": "zsyagYxxk4lY",
        "colab": {
          "base_uri": "https://localhost:8080/",
          "height": 629
        },
        "outputId": "bf88017a-809b-4ad5-833d-97806bd4f03b"
      },
      "source": [
        "print(text1.count(\"family\"))\n",
        "print(text2.count(\"family\"))\n",
        "print(text3.count(\"family\"))\n",
        "print(text4.count(\"family\"))\n",
        "print(text5.count(\"family\"))\n",
        "print(text6.count(\"family\"))\n",
        "print(text7.count(\"family\"))\n",
        "print(text8.count(\"family\"))\n",
        "print(text9.count(\"family\"))\n",
        "text2\n",
        "text2.concordance(\"family\")\n",
        "text3"
      ],
      "execution_count": null,
      "outputs": [
        {
          "output_type": "stream",
          "text": [
            "12\n",
            "83\n",
            "0\n",
            "25\n",
            "12\n",
            "0\n",
            "21\n",
            "3\n",
            "4\n",
            "Displaying 25 of 83 matches:\n",
            "                                    family of Dashwood had long been settled i\n",
            "ted and received into his house the family of his nephew Mr . Henry Dashwood ,\n",
            " strong feelings of the rest of the family ; but he was affected by a recommen\n",
            "vourite with any of her husband ' s family ; but she had had no opportunity , \n",
            "with . If he should have a numerous family , for instance , it would be a very\n",
            "ch half a year ' s residence in her family afforded ; and perhaps in spite of \n",
            "aid she , \" it is too small for our family , but we will make ourselves tolera\n",
            "in the most sociable terms with his family , and pressed them so cordially to \n",
            "ompany of every kind than any other family in the neighbourhood . It was neces\n",
            "e of fifteen . The arrival of a new family in the country was always a matter \n",
            "of a good heart ; and in settling a family of females only in his cottage , he\n",
            "Lady Middleton had brought into the family on her marriage , and which perhaps\n",
            " resolute in declining to visit any family beyond the distance of a walk . The\n",
            "ction , and domestic comfort of the family to whom accident had now introduced\n",
            " . He is highly esteemed by all the family at the park , and I never see him m\n",
            "could give , and to the rest of the family it was the affectionate attention o\n",
            "generous , a suspicious part by our family , be might well be embarrassed and \n",
            " her in an instant ; and though her family were most anxiously attentive to he\n",
            "would have been ashamed to look her family in the face the next morning , had \n",
            "ioned before Marianne by any of her family ; Sir John and Mrs . Jennings , ind\n",
            "njust ? They are a very respectable family , Mr . Ferrars ; and towards us hav\n",
            "ght he ought to be treated from the family connection . CHAPTER 17 Mrs . Dashw\n",
            "l he was not in spirits . The whole family perceived it , and Mrs . Dashwood ,\n",
            "ous you must be to satisfy all your family ; and with no inclination for expen\n",
            "erate income ,\" said Marianne . \" A family cannot well be maintained on a smal\n"
          ],
          "name": "stdout"
        },
        {
          "output_type": "execute_result",
          "data": {
            "text/plain": [
              "<Text: The Book of Genesis>"
            ]
          },
          "metadata": {
            "tags": []
          },
          "execution_count": 290
        }
      ]
    },
    {
      "cell_type": "markdown",
      "metadata": {
        "id": "b7ej0sNaYhxX"
      },
      "source": [
        "# 6. REMINDER: Wrapping up and submitting\n",
        "\n",
        "Once you're done, you don't need to do anything special to log off your Colaboratory notebook.\n",
        "\n",
        "You can, however, save many different versions of a Colab notebook - this comes in handy when you want to turn in an assignment, but don't necessarily want to stop working on your code.\n",
        "\n",
        "Try creating a revision by going to **File > Save and Pin Revision**.\n",
        "\n",
        "Then view your revision history at **File > Revision History**.\n",
        "\n",
        "When you're done and would like to turn in an assignment done on Colab, you can go to **Share** in the upper right corner, click **Get Shareable Link**, change the dropdown menu option to **Anyone with the link can edit**, and then **Copy Link**! This is what you'll be turning in on Canvas."
      ]
    }
  ]
}